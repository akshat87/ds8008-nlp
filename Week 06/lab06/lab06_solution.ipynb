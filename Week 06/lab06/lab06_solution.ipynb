{
 "cells": [
  {
   "cell_type": "markdown",
   "metadata": {
    "collapsed": true
   },
   "source": [
    "In this lab, we are going to focus on text clustering. "
   ]
  },
  {
   "cell_type": "markdown",
   "metadata": {},
   "source": [
    "Let's load the dataset in the same way as we loaded in the previous lab. The dataset is also the same: movie reivew dataset.\n"
   ]
  },
  {
   "cell_type": "code",
   "execution_count": 1,
   "metadata": {},
   "outputs": [
    {
     "name": "stdout",
     "output_type": "stream",
     "text": [
      "Type of text_train:  <class 'list'>\n",
      "Text train at[6]:\n",
      "  b'I thought this was a very clunky, uninvolving version of a famous Australian story. Heath Ledger and Orlando Bloom were very good in their roles, and gave their characters some personality; but the whole thing felt forced and mechanical.<br /><br />The beginning could have been a lot more involving; perhaps starting with a shootout, and then flashing back for a recap of how they got there or that sort of thing. And I felt like every scene was routinely predictable and signposted, like a very bad tv soap.<br /><br />I was really looking forward to this movie, and hoping for something a lot better. The only thing I can say in its favour is that it beats the Mick Jagger version, but not by much.'\n"
     ]
    }
   ],
   "source": [
    "from sklearn.datasets import load_files\n",
    "# Read training files\n",
    "reviewsTrain = load_files(\"aclImdb/train/\")\n",
    "# Lets get training reviews and training labels in sepearate lists\n",
    "textTrain, yTrain = reviewsTrain.data, reviewsTrain.target\n",
    "\n",
    "# Let's understand the two lists: reviews (text_train) and their labels (y_train)\n",
    "print(\"Type of text_train: \",type(textTrain))\n",
    "print(\"Text train at[6]:\\n \", textTrain[6])\n"
   ]
  },
  {
   "cell_type": "markdown",
   "metadata": {},
   "source": [
    "Identify the list of stop words."
   ]
  },
  {
   "cell_type": "code",
   "execution_count": 2,
   "metadata": {},
   "outputs": [
    {
     "name": "stdout",
     "output_type": "stream",
     "text": [
      "['i', 'me', 'my', 'myself', 'we', 'our', 'ours', 'ourselves', 'you', \"you're\", \"you've\", \"you'll\", \"you'd\", 'your', 'yours', 'yourself', 'yourselves', 'he', 'him', 'his', 'himself', 'she', \"she's\", 'her', 'hers', 'herself', 'it', \"it's\", 'its', 'itself', 'they', 'them', 'their', 'theirs', 'themselves', 'what', 'which', 'who', 'whom', 'this', 'that', \"that'll\", 'these', 'those', 'am', 'is', 'are', 'was', 'were', 'be', 'been', 'being', 'have', 'has', 'had', 'having', 'do', 'does', 'did', 'doing', 'a', 'an', 'the', 'and', 'but', 'if', 'or', 'because', 'as', 'until', 'while', 'of', 'at', 'by', 'for', 'with', 'about', 'against', 'between', 'into', 'through', 'during', 'before', 'after', 'above', 'below', 'to', 'from', 'up', 'down', 'in', 'out', 'on', 'off', 'over', 'under', 'again', 'further', 'then', 'once', 'here', 'there', 'when', 'where', 'why', 'how', 'all', 'any', 'both', 'each', 'few', 'more', 'most', 'other', 'some', 'such', 'no', 'nor', 'not', 'only', 'own', 'same', 'so', 'than', 'too', 'very', 's', 't', 'can', 'will', 'would', 'just', 'br', \"''\", \"'s\", '...', '``', '--', '!', '\"', '#', '$', '%', '&', \"'\", '(', ')', '*', '+', ',', '-', '.', '/', ':', ';', '<', '=', '>', '?', '@', '[', '\\\\', ']', '^', '_', '`', '{', '|', '}', '~']\n"
     ]
    }
   ],
   "source": [
    "import string\n",
    "stopWords=['i', 'me', 'my', 'myself', 'we', 'our', 'ours', 'ourselves', \n",
    "           'you', \"you're\", \"you've\", \"you'll\", \"you'd\", 'your', 'yours',\n",
    "           'yourself', 'yourselves', 'he', 'him', 'his', 'himself', 'she',\n",
    "           \"she's\", 'her', 'hers', 'herself', 'it', \"it's\", 'its', 'itself',\n",
    "           'they', 'them', 'their', 'theirs', 'themselves', 'what', 'which',\n",
    "           'who', 'whom', 'this', 'that', \"that'll\", 'these', 'those', 'am',\n",
    "           'is', 'are', 'was', 'were', 'be', 'been', 'being','have', 'has', \n",
    "           'had', 'having', 'do', 'does', 'did', 'doing', 'a', 'an', 'the', \n",
    "           'and', 'but', 'if', 'or', 'because', 'as', 'until', 'while', 'of',\n",
    "           'at', 'by', 'for', 'with', 'about', 'against', 'between', 'into', \n",
    "           'through', 'during', 'before', 'after', 'above', 'below', 'to', \n",
    "           'from', 'up', 'down', 'in', 'out', 'on', 'off', 'over', 'under', \n",
    "           'again', 'further', 'then', 'once', 'here', 'there', 'when', \n",
    "           'where', 'why', 'how', 'all', 'any', 'both', 'each', 'few', 'more',\n",
    "           'most', 'other', 'some', 'such', 'no', 'nor', 'not', 'only', 'own',\n",
    "           'same', 'so', 'than', 'too', 'very', 's', 't', 'can', 'will','would'\n",
    "           ,'just','br',\"''\", \"'s\", '...', '``','--']\n",
    "\n",
    "# Add punctuations too to the list\n",
    "stopWords+=list(string.punctuation)\n",
    "\n",
    "print (stopWords)"
   ]
  },
  {
   "cell_type": "markdown",
   "metadata": {},
   "source": [
    "Let's tokenize and stem the code"
   ]
  },
  {
   "cell_type": "code",
   "execution_count": 3,
   "metadata": {},
   "outputs": [
    {
     "name": "stdout",
     "output_type": "stream",
     "text": [
      ".......\n"
     ]
    }
   ],
   "source": [
    "import nltk\n",
    "from nltk.stem import PorterStemmer\n",
    "\n",
    "# Initialize stemmer'\n",
    "stemmer = PorterStemmer()\n",
    "\n",
    "# Create function for tokenization and stemming\n",
    "def tokenizeAndStem(text):\n",
    "    tokens = [word for sent in nltk.sent_tokenize(text) for word in nltk.word_tokenize(sent)]\n",
    "    stems = [stemmer.stem(t) for t in tokens]\n",
    "    return stems\n",
    "print (\".......\")\n",
    "#print(\"Type of stems: \",type(stems))"
   ]
  },
  {
   "cell_type": "markdown",
   "metadata": {},
   "source": [
    "Now, we shall create a Tfidf (Term Frequency Inverse Document Frequency) matrix from the text corpus. For further details of Tfidf, see lecture notes. In addition to unigram tokens , we are also calculating bigrams and trigrams."
   ]
  },
  {
   "cell_type": "code",
   "execution_count": 14,
   "metadata": {},
   "outputs": [
    {
     "name": "stdout",
     "output_type": "stream",
     "text": [
      "(2002, 396)\n"
     ]
    }
   ],
   "source": [
    "from sklearn.feature_extraction.text import TfidfVectorizer\n",
    "#To find out more about the parameters of TfidfVectorizer, type help(TfidifVectorizer)\n",
    "#max_df and min_df are used to filter out the words which are in more than 95% and less than 5% \n",
    "# reviews. The code is similar to CountVectorizer tha we used in the last lab.\n",
    "tfidfVectorizer = TfidfVectorizer(max_df=0.95, max_features=2000000,\n",
    "                                 min_df=0.05, stop_words=stopWords,\n",
    "                                 use_idf=True, tokenizer=tokenizeAndStem\n",
    "                        , ngram_range=(1,3))\n",
    "\n",
    "tfidfMatrix = tfidfVectorizer.fit_transform(textTrain)\n",
    "\n",
    "print(tfidfMatrix.shape)\n"
   ]
  },
  {
   "cell_type": "markdown",
   "metadata": {},
   "source": [
    "\n",
    "Let's print the terms in the  Tfidf matrix"
   ]
  },
  {
   "cell_type": "code",
   "execution_count": 10,
   "metadata": {},
   "outputs": [
    {
     "name": "stdout",
     "output_type": "stream",
     "text": [
      "[\"'d\", \"'ll\", \"'m\", \"'re\", \"'ve\", \"'ve seen\", '10', '2', 'absolut', 'act', 'action', 'actor', 'actress', 'actual', 'age', 'almost', 'along', 'alreadi', 'also', 'although', 'alway', 'amaz', 'american', 'ani', 'anoth', 'anyon', 'anyth', 'appear', 'around', 'ask', 'attempt', 'audienc', 'aw', 'away', 'back', 'bad', 'basic', 'beauti', 'becaus', 'becom', 'befor', 'begin', 'believ', 'best', 'better', 'big', 'bit', 'black', 'book', 'bore', 'boy', 'bring', 'budget', 'ca', \"ca n't\", 'call', 'came', 'camera', 'care', 'case', 'cast', 'chang', 'charact', 'cinema', 'classic', 'close', 'come', 'comedi', 'comment', 'complet', 'consid', 'could', \"could n't\", 'coupl', 'cours', 'creat', 'dark', 'day', 'death', 'decid', 'definit', 'deserv', 'develop', 'die', 'differ', 'direct', 'director', 'disappoint', 'doe', \"doe n't\", 'done', 'drama', 'dure', 'dvd', 'earli', 'effect', 'either', 'els', 'emot', 'end', 'enjoy', 'enough', 'entertain', 'entir', 'episod', 'especi', 'even', 'ever', 'everi', 'everyon', 'everyth', 'exampl', 'excel', 'except', 'expect', 'experi', 'extrem', 'eye', 'face', 'fact', 'fall', 'famili', 'fan', 'far', 'father', 'favorit', 'featur', 'feel', 'felt', 'fight', 'film', 'film wa', 'final', 'find', 'fine', 'first', 'follow', 'forc', 'found', 'friend', 'full', 'fun', 'funni', 'gener', 'get', 'girl', 'give', 'given', 'go', 'goe', 'good', 'got', 'great', 'guy', 'ha', 'hand', 'happen', 'hard', 'head', 'help', 'hi', 'high', 'hit', 'hollywood', 'home', 'hope', 'horror', 'hour', 'hous', 'howev', 'human', 'idea', 'imagin', 'impress', 'includ', 'instead', 'interest', 'involv', 'job', 'john', 'keep', 'kid', 'kill', 'killer', 'kind', 'know', 'lack', 'last', 'later', 'laugh', 'lead', 'least', 'leav', 'left', 'less', 'let', 'life', 'light', 'like', 'like thi', 'line', 'littl', 'live', 'long', 'look', 'look like', 'lot', 'love', 'made', 'main', 'make', 'man', 'mani', 'may', 'mayb', 'mean', 'meet', 'mention', 'might', 'mind', 'minut', 'miss', 'moment', 'money', 'move', 'movi', 'movi wa', 'much', 'murder', 'music', 'must', \"n't\", 'name', 'need', 'never', 'new', 'next', 'nice', 'night', 'noth', 'now', 'often', 'old', 'onc', 'one', 'onli', 'open', 'origin', 'overal', 'part', 'peopl', 'perfect', 'perform', 'perhap', 'person', 'pictur', 'piec', 'place', 'play', 'plot', 'point', 'poor', 'portray', 'possibl', 'pretti', 'probabl', 'problem', 'produc', 'product', 'put', 'qualiti', 'quit', 'rate', 'rather', 'read', 'real', 'realli', 'reason', 'recommend', 'relationship', 'releas', 'rememb', 'rest', 'review', 'right', 'role', 'run', 'said', 'save', 'saw', 'say', 'scene', 'school', 'screen', 'script', 'second', 'see', 'see thi', 'seem', 'seen', 'sens', 'sequenc', 'seri', 'set', 'sever', 'sex', 'short', 'shot', 'should', 'show', 'simpli', 'sinc', 'small', 'someon', 'someth', 'sort', 'sound', 'special', 'special effect', 'stand', 'star', 'start', 'still', 'stori', 'stupid', 'style', 'support', 'suppos', 'sure', 'surpris', 'take', 'talent', 'talk', 'tell', 'terribl', 'thi', 'thi film', 'thi movi', 'thi movi wa', 'thi one', 'thi wa', 'thing', 'think', 'though', 'thought', 'three', 'throughout', 'time', 'titl', 'togeth', 'top', 'total', 'tri', 'true', 'truli', 'turn', 'tv', 'twist', 'two', 'understand', 'unfortun', 'us', 'use', 'usual', 'veri', 'version', 'view', 'viewer', 'wa', \"wa n't\", 'wait', 'walk', 'want', 'war', 'wast', 'watch', 'watch thi', 'way', 'well', 'whi', 'white', 'whole', 'without', 'woman', 'women', 'wonder', 'word', 'work', 'world', 'worst', 'worth', 'write', 'wrong', 'year', 'yet', 'young']\n",
      "396\n",
      "  (0, 335)\t0.09174883518355968\n",
      "  (0, 225)\t0.08044862614344422\n",
      "  (0, 368)\t0.03968524155065865\n",
      "  (0, 85)\t0.17088889523017778\n",
      "  (0, 9)\t0.12969482087023992\n",
      "  (0, 308)\t0.22413130900176145\n",
      "  (0, 44)\t0.1508061572766008\n",
      "  (0, 294)\t0.26520332232609467\n",
      "  (0, 86)\t0.23719437561421322\n",
      "  (0, 60)\t0.47385563380746976\n",
      "  (0, 389)\t0.09596592188368624\n",
      "  (0, 266)\t0.10099595533980119\n",
      "  (0, 244)\t0.043211040614755315\n",
      "  (0, 155)\t0.20868831215542047\n",
      "  (0, 351)\t0.10139292337829325\n",
      "  (0, 42)\t0.08456153058168277\n",
      "  (0, 256)\t0.10099595533980119\n",
      "  (0, 32)\t0.10867125207679154\n",
      "  (0, 180)\t0.09213863186212401\n",
      "  (0, 73)\t0.10456754841313935\n",
      "  (0, 19)\t0.09547761174343394\n",
      "  (0, 134)\t0.1052487880297406\n",
      "  (0, 387)\t0.07217090991708856\n",
      "  (0, 11)\t0.42730276756215557\n",
      "  (0, 30)\t0.10764932774109841\n",
      "  (0, 227)\t0.06245573174927198\n",
      "  (0, 150)\t0.16018979284941162\n",
      "  (0, 178)\t0.09257084126586877\n",
      "  (0, 13)\t0.08128791101833319\n",
      "  (0, 379)\t0.08128791101833319\n",
      "  (0, 194)\t0.10119372538159598\n",
      "  (0, 364)\t0.05616332310962681\n",
      "  (0, 154)\t0.052498760099319454\n",
      "  (0, 126)\t0.10739965361458265\n",
      "  (0, 174)\t0.1047927643796421\n",
      "  (0, 274)\t0.09242601782208808\n",
      "  (0, 116)\t0.10973249070868184\n",
      "  (0, 331)\t0.10501983399634128\n",
      "  (0, 71)\t0.06324686273674211\n",
      "  (0, 152)\t0.06582123398026912\n",
      "  (0, 250)\t0.06758342478590348\n",
      "  (0, 141)\t0.09783418522606414\n",
      "  (0, 296)\t0.05589303176809238\n",
      "  (0, 337)\t0.05631897262085883\n",
      "  (0, 226)\t0.09171308919374684\n",
      "  (0, 338)\t0.1064229568344082\n"
     ]
    }
   ],
   "source": [
    "terms = tfidfVectorizer.get_feature_names()\n",
    "print (terms)\n",
    "print(len(terms))\n",
    "print(tfidfMatrix[0])"
   ]
  },
  {
   "cell_type": "markdown",
   "metadata": {},
   "source": [
    "Let's determine the best number of clusters, intrinsically, by using the knee (or elbow) method (see lecture notes). However, note that, this is just an approximation to determine the best number of clusters. Final answer is discovered by manual investigation or by using the ground truth based evaluation.\n",
    "\n",
    "Note in the following code, we are finding the cluster for each k only once but ideally we should repeat this process for each K multiple times with different random initial values. For simplicity, I kept it to only one run per k."
   ]
  },
  {
   "cell_type": "code",
   "execution_count": 15,
   "metadata": {},
   "outputs": [
    {
     "name": "stdout",
     "output_type": "stream",
     "text": [
      "This will take some time to execute.....\n",
      "k...  2\n",
      "k...  3\n",
      "k...  4\n",
      "k...  5\n",
      "k...  6\n",
      "k...  7\n",
      "k...  8\n",
      "k...  9\n",
      "k...  10\n",
      "[1668.948470226576, 1648.724730207433, 1635.0745291996782, 1624.1640482180426, 1613.8603184858723, 1606.750584137771, 1602.2148972407192, 1597.0056622316108, 1590.9103450234313]\n"
     ]
    },
    {
     "data": {
      "text/plain": [
       "Text(0.5,1,'Knee/Elbow curve')"
      ]
     },
     "execution_count": 15,
     "metadata": {},
     "output_type": "execute_result"
    },
    {
     "data": {
      "image/png": "[encoded data removed]",
      "text/plain": [
       "<matplotlib.figure.Figure at 0x1d468530978>"
      ]
     },
     "metadata": {},
     "output_type": "display_data"
    }
   ],
   "source": [
    "# Here we are using matplotlib library to plot the residual \n",
    "# sum of squared error for different number of clusters\n",
    "%matplotlib inline\n",
    "from sklearn.cluster import KMeans\n",
    "#Pyplot module in matplotlib contains functions to quickly plot charts\n",
    "from matplotlib import pyplot \n",
    "import numpy as np\n",
    "\n",
    "print(\"This will take some time to execute.....\")\n",
    "# Residual sum of squared distances of samples for each clsuter\n",
    "kRSS= []\n",
    "xAxisVals=[]\n",
    "kmeans=[] # we shall keep track of the clustering\n",
    "\n",
    "for k in range(2, 11):\n",
    "    print (\"k... \",k)\n",
    "    xAxisVals.append(k)\n",
    "    \n",
    "    rd=np.random.RandomState()\n",
    "    # Let's initialize k means with the k clusters\n",
    "    kmeans.append( KMeans(n_clusters=k,random_state=rd) )\n",
    "    # Create clusters using the tfidf matrix\n",
    "    kmeans[k-2].fit(tfidfMatrix)\n",
    "    # kmeans.inertia_ returns the sum of squared distances of\n",
    "    # records to their cluster's centroids\n",
    "    # we will kepp the minimum of \n",
    "    kRSS.append(kmeans[k-2].inertia_)\n",
    "\n",
    "print (kRSS)\n",
    "\n",
    "pyplot.plot(xAxisVals, kRSS)\n",
    "pyplot.grid(True)\n",
    "pyplot.title('Knee/Elbow curve')"
   ]
  },
  {
   "cell_type": "markdown",
   "metadata": {},
   "source": [
    "The knee seems to be at 3 and then there are not too obvious knees at other points such as 7. We should use 3. \n",
    "However, I am  just going to select two clsuters, just to compare with the two types of classes for the reviews (positive or negative). Also the elbow is not bending sharply."
   ]
  },
  {
   "cell_type": "code",
   "execution_count": 18,
   "metadata": {},
   "outputs": [
    {
     "name": "stdout",
     "output_type": "stream",
     "text": [
      "Clustering complete.....\n"
     ]
    }
   ],
   "source": [
    "\n",
    "numClusters = 2\n",
    "km = kmeans[numClusters-2]\n",
    "\n",
    "clusters = km.labels_.tolist()\n",
    "\n",
    "print (\"Clustering complete.....\")\n"
   ]
  },
  {
   "cell_type": "markdown",
   "metadata": {},
   "source": [
    "Now, we shall look at the top few terms in each cluster. We find top few terms by sorting the features (terms) of each centroid by their tfidf value. We shall then print them using terms  extracted above (terms = tfidfVectorizer.get_feature_names())"
   ]
  },
  {
   "cell_type": "code",
   "execution_count": 19,
   "metadata": {},
   "outputs": [
    {
     "name": "stdout",
     "output_type": "stream",
     "text": [
      "Top 10 terms per cluster:\n",
      "\n",
      "Cluster 0 words: \n",
      "\n",
      "film   0.12494049176593973\n",
      "thi   0.10037737316750092\n",
      "wa   0.08291231022018603\n",
      "hi   0.07939149791791732\n",
      "one   0.05748903725366964\n",
      "n't   0.05668087582029418\n",
      "thi film   0.04664931342489743\n",
      "ha   0.04550941493803768\n",
      "like   0.04439783481363678\n",
      "stori   0.041556073680804224\n",
      "\n",
      "\n",
      "\n",
      "Cluster 1 words: \n",
      "\n",
      "movi   0.2256562856879416\n",
      "thi   0.14342346387838834\n",
      "thi movi   0.11886540727000165\n",
      "wa   0.11601280049106073\n",
      "n't   0.0764523954500653\n",
      "like   0.05626965876929733\n",
      "watch   0.055532067033624545\n",
      "one   0.05254242796912477\n",
      "good   0.04671523912915767\n",
      "veri   0.041212806464556245\n",
      "\n",
      "\n",
      "\n"
     ]
    }
   ],
   "source": [
    "\n",
    "print(\"Top 10 terms per cluster:\\n\")\n",
    "\n",
    "#Following line of code first extract the cluster centers, then sort \n",
    "# their terms by the tfidif values, and then return the index of sorted \n",
    "# values. The [:,::-1] at the end reverse sort them or sort in descending order\n",
    "sortedCentroidFeatures = km.cluster_centers_.argsort()[:,::-1] \n",
    "\n",
    "for i in range(numClusters):\n",
    "    print(\"Cluster %d words: \\n\" % i)\n",
    "    for ind in sortedCentroidFeatures[i, :10]:\n",
    "        print (terms[ind], \" \", km.cluster_centers_[i,ind])\n",
    "        \n",
    "    print(\"\\n\\n\")\n",
    "    "
   ]
  },
  {
   "cell_type": "markdown",
   "metadata": {},
   "source": [
    "Let's see first 20 records went to which clusters."
   ]
  },
  {
   "cell_type": "code",
   "execution_count": 20,
   "metadata": {
    "scrolled": false
   },
   "outputs": [
    {
     "name": "stdout",
     "output_type": "stream",
     "text": [
      "*********Cluster  0 ******************************\n",
      "b'The real star of this ridiculous story is glorious technicolor. A visual treat to the eye, the fil ....\n",
      "b\"This show is a great history story. It's has everything from slavery,the way they were treated, re ....\n",
      "b\"Outlandish premise that rates low on plausibility and unfortunately also struggles feebly to raise ....\n",
      "b\"Without doubt Beat Street is the best film about the breakin scene. Everything about it is spot on ....\n",
      "b'Here\\'s an interesting little movie that strictly gives the phrase \"low budget\" a horrible name. O ....\n",
      "b'This interesting Giallo boosts a typical but still thrilling plot and a really sadistic killer tha ....\n",
      "b\"Steven Speilberg's adaptation of Alice Walkers popular novel is not without its share of controver ....\n",
      "b'The silent one-panel cartoon Henry comes to Fleischer Studios, billed as \"The world\\'s funniest hu ....\n",
      "b\"The night of the prom: the most important night to any shallow girl composed almost entirely of pl ....\n",
      "b'In contrast to my fellow reviewers, I always try to find something redeeming in any film I see.Yes ....\n",
      "b\"This may not be a memorable classic, but it is a touching romance with an important theme that str ....\n",
      "*********Cluster  1 ******************************\n",
      "b'This movie was so badly written, directed and acted that it beggars belief. It should be remade wi ....\n",
      "b\"I rented this one on DVD without any prior knowledge. I was suspicious seeing Michael Madsen appea ....\n",
      "b'Hi folks<br /><br />Forget about that movie. John C. should be ashamed that he appears as executiv ....\n",
      "b'I thought this was a very clunky, uninvolving version of a famous Australian story. Heath Ledger a ....\n",
      "b'Never cast models and Playboy bunnies in your films! Bob Fosse\\'s \"Star 80\" about Dorothy Stratten ....\n",
      "b'I saw this not too long ago, and I must say: This movie is terrible. I watch crappy movies for fun ....\n",
      "b\"This is one of the best movies. It is one of my favorites. A movie with good acting. The story is  ....\n",
      "b\"heres a fun fact, I was the baby in the movie, the one in the crib. :) I am 19 years old now. my p ....\n",
      "b\"THE ZOMBIE CHRONICLES <br /><br />Aspect ratio: 1.33:1 (Nu-View 3-D)<br /><br />Sound format: Mono ....\n"
     ]
    }
   ],
   "source": [
    "#Go through all clusters (numbers)\n",
    "for k in range(0,numClusters):\n",
    "    print (\"*********Cluster \", k,\"******************************\")\n",
    "    # for first 20 recrds\n",
    "    for idx in range(0,20):\n",
    "        # if cluster label of the ith record is the same as \n",
    "        # the cluster number k\n",
    "        if (k==clusters[idx]):\n",
    "            # then print only first 100 characters\n",
    "            print (str(textTrain[idx])[:100],\"....\")\n",
    "    \n",
    "    "
   ]
  },
  {
   "cell_type": "markdown",
   "metadata": {},
   "source": [
    "If you read closely above, you shall see most of the reviews in first cluster are positive and most of them in second are negative. However, clusters are not pure, there are some reviews from other types too. This is mostly the case with clustering."
   ]
  },
  {
   "cell_type": "markdown",
   "metadata": {},
   "source": [
    "Attempt anyone of the following exercise for submission. However, for your practice, I recommend trying both. These exercises may have different diffculty levels.\n",
    "\n",
    "# Exercise 6.1 \n",
    "\n",
    "Can you determine what is the purity of clusters? See lecture notes on how to determine the purity. Hint: *yTrain* variable extracted in the beginning contains the true label of the reviews that you can use in your calcualtions of purity."
   ]
  },
  {
   "cell_type": "code",
   "execution_count": 63,
   "metadata": {},
   "outputs": [
    {
     "name": "stdout",
     "output_type": "stream",
     "text": [
      "Class  0\n",
      "620 documents in cluster 0 are from class 0\n",
      "381 documents in cluster 1 are from class 0\n",
      "Max number of correctly classified docs in class 0 : 620\n",
      "Class  1\n",
      "713 documents in cluster 0 are from class 1\n",
      "288 documents in cluster 1 are from class 1\n",
      "Max number of correctly classified docs in class 1 : 713\n",
      "Purity: 0.6658341658341659\n"
     ]
    }
   ],
   "source": [
    "# To determine the purity of clusters we need the original labels from each document\n",
    "# and calculate the max number of documents from a single class in each cluster\n",
    "\n",
    "classes = [0,1]\n",
    "purities = []\n",
    "num_docs = len(textTrain)\n",
    "ndocs_in_clust = 0\n",
    "max_ok_docs_in_clust = 0\n",
    "\n",
    "#print(clusters)\n",
    "# go through all classes\n",
    "for c in classes:\n",
    "    print(\"Class \",c)\n",
    "    for clust in range(0, numClusters):\n",
    "        for idx in range(0,num_docs):\n",
    "            if (clusters[idx] == clust and c == yTrain[idx]):\n",
    "                ndocs_in_clust += 1\n",
    "        print(ndocs_in_clust, \"documents in cluster\", clust, \"are from class\", c)\n",
    "        if(ndocs_in_clust > max_ok_docs_in_clust):\n",
    "            max_ok_docs_in_clust = ndocs_in_clust\n",
    "            \n",
    "        ndocs_in_clust = 0\n",
    "    \n",
    "    print(\"Max number of correctly classified docs in class\",c,\":\",max_ok_docs_in_clust)\n",
    "    purities.append(max_ok_docs_in_clust)\n",
    "    max_ok_docs_in_clust = 0\n",
    "\n",
    "purity = (1/num_docs) * sum(purities)\n",
    "\n",
    "print(\"Purity:\",purity)\n"
   ]
  },
  {
   "cell_type": "markdown",
   "metadata": {},
   "source": [
    "# Exercise 6.2\n",
    "\n",
    "Apply Bernoulli mixture model of clustering on the data used in this lab. Show the cluster association of first 20 reivews as shown in this lab. \n",
    "\n",
    "Note:\n",
    "Scikit-learn does not have Bernoulli mixture model for clusering but there are some implementations available on Github: https://github.com/manfredzab/bernoulli-mixture-models \n",
    "https://github.com/schwannden/MNIST_mixture-of-bernoulli\n",
    "\n",
    "You can either use any open implementation avialble on Github (or elsewhere in Python) or you can implement your own which can be easily implemented by following the example in lecture notes.\n",
    "\n",
    "Scikit-learn has an implementation of Gaussian Mixture models of clustering. If you find Bernoulli difficult to implement, then  try using Gaussian Mixture models avialble in Scikit-learn for this exercise:\n",
    "http://scikit-learn.org/stable/modules/mixture.html#mixture"
   ]
  }
 ],
 "metadata": {
  "kernelspec": {
   "display_name": "Python 3",
   "language": "python",
   "name": "python3"
  },
  "language_info": {
   "codemirror_mode": {
    "name": "ipython",
    "version": 3
   },
   "file_extension": ".py",
   "mimetype": "text/x-python",
   "name": "python",
   "nbconvert_exporter": "python",
   "pygments_lexer": "ipython3",
   "version": "3.6.4"
  }
 },
 "nbformat": 4,
 "nbformat_minor": 2
}
