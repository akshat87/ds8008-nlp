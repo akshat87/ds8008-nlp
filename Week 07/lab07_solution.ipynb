{
 "cells": [
  {
   "cell_type": "markdown",
   "metadata": {},
   "source": [
    "In this lab, we shall learn implementation of topic modeling in Python."
   ]
  },
  {
   "cell_type": "markdown",
   "metadata": {},
   "source": [
    "Let's start by loading the data of the 20 newsgroups dataset in scikit-learn. You can use all the data but for simpler and fast execution, the code below selects first 100 articles.\n"
   ]
  },
  {
   "cell_type": "code",
   "execution_count": 86,
   "metadata": {},
   "outputs": [
    {
     "name": "stdout",
     "output_type": "stream",
     "text": [
      "100\n",
      "A fair number of brave souls who upgraded their SI clock oscillator have\n",
      "shared their experiences for this poll. Please send a brief message detailing\n",
      "your experiences with the procedure. Top speed attained, CPU rated speed,\n",
      "add on cards and adapters, heat sinks, hour of usage per day, floppy disk\n",
      "functionality with 800 and 1.4 m floppies are especially requested.\n",
      "\n",
      "I will be summarizing in the next two days, so please add to the network\n",
      "knowledge base if you have done the clock upgrade and haven't answered this\n",
      "poll. Thanks.\n",
      "\n",
      "<><><><>><><><>><><><><><>\n",
      "\n",
      "well folks, my mac plus finally gave up the ghost this weekend after\n",
      "starting life as a 512k way back in 1985.  sooo, i'm in the market for a\n",
      "new machine a bit sooner than i intended to be...\n",
      "\n",
      "i'm looking into picking up a powerbook 160 or maybe 180 and have a bunch\n",
      "of questions that (hopefully) somebody can answer:\n",
      "\n",
      "* does anybody know any dirt on when the next round of powerbook\n",
      "introductions are expected?  i'd heard the 185c was supposed to make an\n",
      "appearence \"this summer\" but haven't heard anymore on it - and since i\n",
      "don't have access to macleak, i was wondering if anybody out there had\n",
      "more info...\n",
      "\n",
      "* has anybody heard rumors about price drops to the powerbook line like the\n",
      "ones the duo's just went through recently?\n",
      "\n",
      "* what's the impression of the display on the 180?  i could probably swing\n",
      "a 180 if i got the 80Mb disk rather than the 120, but i don't really have\n",
      "a feel for how much \"better\" the display is (yea, it looks great in the\n",
      "store, but is that all \"wow\" or is it really that good?).  could i solicit\n",
      "some opinions of people who use the 160 and 180 day-to-day on if its worth\n",
      "taking the disk size and money hit to get the active display?  (i realize\n",
      "this is a real subjective question, but i've only played around with the\n",
      "machines in a computer store breifly and figured the opinions of somebody\n",
      "who actually uses the machine daily might prove helpful).\n",
      "\n",
      "* how well does hellcats perform?  ;)\n",
      "\n",
      "thanks a bunch in advance for any info - if you could email, i'll post a\n",
      "summary (news reading time is at a premium with finals just around the\n",
      "corner... :( )\n",
      "--\n",
      "Tom Willis  \\  twillis@ecn.purdue.edu    \\    Purdue Electrical Engineering\n"
     ]
    }
   ],
   "source": [
    "from sklearn.datasets import fetch_20newsgroups\n",
    "dataset = fetch_20newsgroups(remove=('headers', 'footers', 'quotes'))\n",
    "articles = dataset.data[:100]\n",
    "print(len(articles))\n",
    "print(articles[1])\n",
    "print()\n",
    "print(\"<><><><>><><><>><><><><><>\")\n",
    "print()\n",
    "print(articles[2])"
   ]
  },
  {
   "cell_type": "markdown",
   "metadata": {},
   "source": [
    "We shall use the same familiar approach of CountVectorizer to measure terms/words and their frequencies.  Our custom tokenization function for CountVectorizer is shown below. In this function, we are performing lemmatization on each word. In order to have correct lemma of a word, we also need to determine the part-of-speech tag of it. For example, the word saw as noun and as verb have different lemmas (root word) and of course they have different meanings."
   ]
  },
  {
   "cell_type": "code",
   "execution_count": 87,
   "metadata": {},
   "outputs": [
    {
     "name": "stdout",
     "output_type": "stream",
     "text": [
      "done\n"
     ]
    }
   ],
   "source": [
    "from nltk.corpus import wordnet\n",
    "from nltk.stem import WordNetLemmatizer\n",
    "\n",
    "#Custom function for toeknization\n",
    "def myTokenizer(text):\n",
    "    \n",
    "    lemmatizer = WordNetLemmatizer()\n",
    "    lemmas=[]\n",
    "    \n",
    "    for sent in nltk.sent_tokenize(text):\n",
    "        #nltk return the tag from Penntreebank tagsets\n",
    "        sentTag=nltk.pos_tag(nltk.word_tokenize(sent))\n",
    "        #print (sentTag)\n",
    "        for word, tag in sentTag:\n",
    "            # the problem wordnet lemmatizer is that, it recognizes only\n",
    "            # wordnet tags and not the PennTreebank tags. So we shall\n",
    "            # first convert Penntreebank tags to Wordnet tags\n",
    "            wordNetTag=getWordnetPos(tag)\n",
    "            if wordNetTag is None:\n",
    "                continue\n",
    "            else:\n",
    "                lemmas.append(lemmatizer.lemmatize(word,wordNetTag))\n",
    "                \n",
    "    return  lemmas\n",
    "    \n",
    "    \n",
    "# Function to convert \n",
    "#Penntreebank tags to wordnet tags\n",
    "def getWordnetPos(treebank_tag):\n",
    "\n",
    "    if treebank_tag.startswith('J'):\n",
    "        return wordnet.ADJ\n",
    "    elif treebank_tag.startswith('V'):\n",
    "        return wordnet.VERB\n",
    "    elif treebank_tag.startswith('N'):\n",
    "        return wordnet.NOUN\n",
    "    elif treebank_tag.startswith('R'):\n",
    "        return wordnet.ADV\n",
    "    else:#We are igonring everything else other than four of the above \n",
    "         # tags. You can add more if you like\n",
    "        return None      \n",
    "    \n",
    "print(\"done\")\n"
   ]
  },
  {
   "cell_type": "markdown",
   "metadata": {},
   "source": [
    "Let's add some stop words to our recipe."
   ]
  },
  {
   "cell_type": "code",
   "execution_count": 88,
   "metadata": {
    "scrolled": true
   },
   "outputs": [
    {
     "name": "stdout",
     "output_type": "stream",
     "text": [
      "done\n"
     ]
    }
   ],
   "source": [
    "import nltk\n",
    "import string\n",
    "stopWords=nltk.corpus.stopwords.words('english')\n",
    "stopWords+=[\"''\", \"'s\", \"...\", \"``\",\"--\",\"*\",\"-\"]\n",
    "stopWords+=list(string.punctuation)\n",
    "print(\"done\")"
   ]
  },
  {
   "cell_type": "markdown",
   "metadata": {},
   "source": [
    "Time to create a term document (or document term rather) matrix using the CountVectorizer class. All the parameters in this class are already dicussed in the earlier lab. If you need further help on parameters type help(CountVectorizer) in another cell."
   ]
  },
  {
   "cell_type": "code",
   "execution_count": 89,
   "metadata": {
    "scrolled": true
   },
   "outputs": [
    {
     "name": "stdout",
     "output_type": "stream",
     "text": [
      "(100, 3905)\n",
      "[\"'85\", \"'89\", \"'92\", \"'expected\", \"'fanatic\", \"'fecal\", \"'fragile\", \"'in-line\", \"'intifadah\", \"'m\", \"'new\", \"'news\", \"'noise\", \"'notify\", \"'re\", \"'scsi-1\", \"'spanish\", \"'to\", \"'ve\", '**', '**********************************************************************', '*.ini', '*boys', '*entirely*', '*finaly*', '*lack*', '*not*', '*nothing*', '*position*', '*really*', '*science*', '*specifically*', '*speed*', '+1', '+12', '-*', '-*-', '-0.5', '-1', '-12v', '-30-', '-324-9553', '-5v', '-617-3522', '-90', '-brando', '-ciao', '-eric', '-h', '-jason', '-rdd', '-sean', '-w', '..', '..deleted', '..robert', '..sam', '.238.', '.267', '.458', '.481', '.50', '.d', '.not', '.so', '.txt', '//', '//center', '/2', '/6', '/\\\\', '/\\\\|', '/contrib/xtrapv33_x11r5.tar.z', '/u.s', '/|/|', '/||', '/~', '0-5mb/s', '02-jul-92', '02194-2722', '1-20', '1-800-832-4778', '12-2', '12-5', '14-y-o', '1487-1489', '15-20mb/s', '16-bit/wide', '1625-1712', '1629-1695', '1808-1975', '1914-1920', '1918-1920', '1960s', '2-5', '2-5.', '2-door', '20,000-strong', '202-479-2258', '20th', '25-30k', '251-277', '268-9', '2nd', '3-1', '3-20', '3-3', '314-317', '315-316', '32-bit/wide', '336-9591', '349-380', '386-20mhz', '4-6mb/s', '41-160', '45-47', '4th', '5-6', '5-volt', '517-355-2178', '6-1', '6-2', '6-6', '6-7', '8-10', '8-12mb/s', '8-bit', '8-bit/scsi-1', '854-6889', ':openflags', '=====', '=======', '========================================================================', '========imagination', '\\\\\\\\', '\\\\_|\\\\/|_|/|', '^^^^^^^^^^^^^^^^^^^^^^', '_are_', '_depends_', '_entire_', '_hated_', '_rv', '_|\\\\\\\\_|', '`assault', 'a000-c800', 'aardvark.ucs.uoknor.edu', 'ab', 'abandon', 'abdomen', 'abilene', 'able', 'abode', 'about-', 'abp', 'abp2.gif', 'abraham', 'absolute', 'abstract', 'abuse', 'academy', 'accel', 'acceleration', 'accept', 'acceptance', 'access', 'accessible', 'accessory', 'accident', 'accidentally', 'accommodation', 'accompany', 'accomplish', 'account', 'accuracy', 'accurate', 'achieve', 'acn', 'acne', 'acquire', 'acquisition', 'acquisition/control', 'acrv', 'act', 'action', 'active', 'activity', 'actually', 'actualy', 'acura', 'adam', 'adamantly', 'adana', 'adapter', 'adc', 'add', 'addition', 'additional', 'address', 'address/phone', 'adeos', 'adequately', 'adjoin', 'adjust', 'administrative', 'admit', 'admitted', 'admonition', 'adobe', 'adopt', 'adresses', 'adriaansen', 'advance', 'advanced', 'advantage', 'advice', 'advisory', 'affair', 'affect', 'affected', 'afford', 'age', 'agency', 'agent', 'ago', 'agree', 'ah', 'ai', 'aim', 'air', 'airbag', 'alameda', 'alamos', 'alarm', 'albert', 'alcohol', 'alert', 'alexis', 'alfa', 'algorithm', 'ali', 'align', 'alike', 'alive', 'allegedly', 'allen', 'allocate', 'allow', 'allstate', 'ally', 'almost', 'alone', 'along', 'alot', 'already', 'alright', 'also', 'alternative', 'always', 'am/fm', 'amaze', 'amazing', 'ambassador', 'ambient', 'ambition', 'american', 'amherst-clown', 'ami', 'ammunition', 'amount', 'amp', 'amplifier', 'amplify', 'analogy', 'analysis', 'analyze', 'anatolia', 'ancestor', 'ancient', 'angel', 'angle', 'angstrom', 'animal', 'anisetti', 'ankara', 'annihilate', 'annihilation', 'annoying', 'annul', 'answer', 'ansynchronous', 'antenna', 'anti', 'anticipation', 'anxiously', 'anybody', 'anymore', 'anyone', 'anything', 'anyway', 'anywhere', 'apart', 'aphelion', 'apocalypse', 'apollo', 'apostasy', 'apostate', 'apostle', 'app', 'appal', 'apparently', 'appeal', 'appear', 'appearance', 'appearence', 'appendix', 'apple', 'applicable', 'application', 'applies', 'apply', 'appoint', 'appreciate', 'appreciated', 'approach', 'appropriate', 'approval', 'approve', 'approximately', 'apr', 'april', 'aprs', 'apt', 'arab', 'arbitrary', 'architect', 'archive', 'archive-name', 'area', 'argic', 'argue', 'argument', 'ariane', 'arm', 'armenia', 'armenian', 'armenian-nazi', 'armistice', 'army', 'around', 'arounde', 'arrange', 'array', 'arrival', 'arrive', 'arrow', 'article', 'aryan', 'as-is', 'ascendent', 'aside', 'ask', 'aspect', 'aspiration', 'assemble', 'assembler', 'assembly', 'assert', 'assessment', 'assign', 'assist', 'association', 'assume', 'assumption', 'assured', 'asteroid', 'astro-d', 'astrocytomas', 'astronomical', 'astronomy', 'astrophysical', 'asuka', 'atari', 'atf', 'atheism', 'atheist', 'athlete', 'athula', 'ati', 'atleast', 'atm', 'atmosphere', 'atmospheric', 'atrocity', 'attach', 'attack', 'attain', 'attempt', 'attention', 'attention-getting', 'attribution', 'au', 'audi', 'aug', 'august', 'auroral', 'aust', 'austin', 'australia', 'australian', 'author', 'authority', 'auto', 'autocad', 'autodoubler', 'autodoubler/diskdoubler', 'autoexec', 'automated', 'automatic', 'automatically', 'automation', 'automobile', 'available', 'avenue', 'average', 'aviv', 'avoid', 'await', 'aware', 'away', 'awd', 'awds', 'axaf', 'axis', 'ayoob', 'b', 'b/w', 'baalke', 'babi-i', 'back', 'back-stabbed', 'background', 'backside', 'backup', 'bad', 'badshmseg', 'bag', 'baikar', 'baker', 'balance', 'ban', 'band', 'bank', 'banner', 'bar', 'barbarous', 'bare', 'bargain', 'barrack', 'bartman', 'base', 'baseball', 'basically', 'basicly', 'basis', 'bat', 'batchfile', 'batf', 'battalion', 'batter', 'battery', 'batteryless', 'battlefield', 'bay', 'bayonet', 'bayur', 'bc', 'bc++', 'beachball', 'bearing', 'beautiful', 'beauty', 'become', 'bed', 'beemer', 'befall', 'beget', 'begin', 'beginning', 'behalf', 'belief', 'believe', 'belt', 'benefit', 'bent', 'berlin', 'best', 'bet', 'beta.lanl.gov', 'bevelizes', 'biased', 'bible', 'biblical', 'biennial', 'big', 'bike', 'bill', 'billing', 'binah.cc.brandeis.edu', 'binoculars', 'binolux', 'bios', 'birth', 'birthday', 'bit', 'bit-banging', 'bitlis', 'bizarre', 'bj-200', 'bk', 'black', 'blender', 'blind', 'blitz', 'bloch', 'block', 'blood', 'bloody', 'blow', 'blue', 'blue*', 'bmp', 'board', 'board-compressed', 'boast', 'bobby', 'body', 'bogus', 'boil', 'boiler', 'boiling-water', 'bolt', 'bomb', 'bonilla', 'book', 'boost', 'booster', 'boot', 'bosporus', 'boston', 'bother', 'bottom', 'boulder', 'boundary', 'box', 'boy', 'brag', 'brand', 'branham', 'branstad', 'brave', 'break', 'breifly', 'brewer', 'brewhas', 'brick', 'bricklin', 'bridge', 'brief', 'briefly', 'brilliant', 'bring', 'bristol', 'britain', 'british', 'bro', 'bronze/brown/orange', 'brother', 'brotherhood', 'brought', 'browser', 'btw-', 'budienny', 'buffer', 'bug', 'build', 'build-up', 'building', 'bullet', 'bullpen', 'bullshit', 'bumper', 'bunch', 'burdensome', 'bureau', 'burn', 'burnt', 'burst', 'burster', 'bury', 'bus', 'bus-1', 'butcher', 'butter-dishes', 'button', 'buttons/widgets', 'buy', 'buyer', 'buying', 'bva', 'c', \"c'mon\", 'c++', 'c/-', 'c5owcb.n3p', 'cabin', 'cable', 'cad.gatech.edu', 'cage', 'cain', 'calamity', 'caliber', 'calif.', 'california', 'california-irvine', 'call', 'callback', 'callison', 'callisto', 'cam', 'cambridge', 'camera', 'camera-ready', 'cameras', 'camp', 'campaign', 'campbell', 'camping', 'camshaft', \"can't\", 'canadian', 'canberra', 'cancel', 'canon', 'canopy', 'cap', 'capability', 'capacity', 'capitalized', 'captain', 'captaincy', 'capture', 'capture/convert', 'car', 'caravan', 'card', 'care', 'careful', 'carry', 'cart', 'cartridge', 'carve', 'case', 'cassette', 'cassini', 'caste', 'cataclysmic', 'catalog', 'catch', 'category', 'caucasian', 'caucasus', 'cause', 'cavalry', 'cc', 'ccd', 'cd', 'celbration', 'celica', 'cellular', 'census', 'center', 'centre', 'centuries-old', 'century', 'ceremonial', 'certain', 'certainly', 'cfile', 'chairman', 'chalk', 'challenge', 'change', 'character', 'characteristic', 'characterize', 'charge', 'charger', 'charles', 'chase', 'check', 'chemical', 'chemist', 'cheque', 'cherry', 'chevrolet', 'chicago', 'chief', 'child', 'chin', 'chip', 'choice', 'christ', 'christiaan', 'christian', 'christianity', 'church', 'cilicia', 'cimcoz', 'circuit', 'circulation', 'circumference', 'citizen', 'city', 'civil', 'civilian', 'civilization', 'claim', 'class', 'classification', 'clause', 'clean', 'clear', 'clearasil', 'clearest', 'clh', 'click', 'climb', 'clipper', 'clock', 'close', 'close-up', 'closed-cycle', 'closest', 'closing', 'closure', 'cloud', 'cloudy', 'clown', 'club', 'clutch', 'cmaeras', 'cmptrc.lonestar.org', 'co', 'co.', 'cock', 'cocker', 'cod', 'code', 'colaboration', 'cold', 'cold-blooded', 'collaboration', 'collect', 'collection', 'collector', 'college', 'collision', 'collude', 'colonel', 'colt', 'combat', 'combination', 'combine', 'combined', 'comdex', 'come', 'comet', 'command', 'commander', 'commandment', 'comment', 'commerce', 'commission', 'commit', 'committee', 'common', 'commonly', 'commonwealth', 'comms', 'communication', 'community', 'company', 'compel', 'competition', 'compiler', 'compiliers', 'complaint', 'complete', 'completely', 'completion', 'complexity', 'component', 'compound', 'comprehensive', 'compression', 'comprise', 'compute', 'computer', 'computing', 'computrac-richardson', 'comtemporary', 'conceal', 'conceivable', 'concentrate', 'concentration', 'concept', 'concern', 'concerted', 'conclude', 'conclusion', 'concur', 'condemnation', 'condense', 'condenser', 'condition', 'conduct', 'conference', 'conferencing', 'confident', 'config.syus', 'configuration', 'confirm', 'confrontation', 'congress', 'conjecture', 'conservative', 'consider', 'consideration', 'consist', 'consistently', 'conspiracy', 'constant', 'constantly', 'constituency', 'constitute', 'constrain', 'construction', 'consult', 'contact', 'contain', 'contaminate', 'contemporary', 'content', 'context', 'continue', 'continued', 'continuous', 'continuum', 'contribute', 'control', 'controler', 'controlled', 'controller', 'controversy', 'convenient', 'converse', 'convert', 'converter', 'convex', 'convincing', 'convoy', 'cookbook', 'cool', 'cooling', 'cooperation', 'coordination', 'coordinator', 'cop', 'copper', 'copy', 'cord', 'corner', 'corp', 'corps', 'corrado', 'correct', 'correction', 'correctly', 'corvette', 'cosmic', 'cost', 'council', 'count', 'counter', 'country', 'couple', 'course', 'court', 'covenant', 'cover', 'coverage', 'cow', 'cpu', 'crack', 'cradle', 'crankshaft', 'crash', 'crazy', 'create', 'creator', 'creature', 'credibility', 'crew', 'crime', 'criminal', 'crisis', 'criticize', 'crook', 'cross', 'crowd', 'crud', 'cruelty', 'cruise', 'crush', 'crust', 'crx', 'crypto', 'cryptography', 'cryptology', 'crystal', 'csiro', 'ctl-alt-del', 'ctrltest', 'culminate', 'cumulative', 'cure', 'current', 'currently', 'curve', 'customer', 'cut', 'cutler', 'cycle', 'cylinder', 'czar', 'czarist', \"d'artillerie\", \"d'erzeroum\", 'd-ga.', 'daily', 'dalacin', 'dalva', 'damage', 'damage/vandalism/theft', 'damn', 'dan', 'dandruff', 'dangerous', 'dans', 'dar-al-islam', 'dardanelles', 'darius', 'dark', 'darryl', 'dashboard', 'dashnags', 'dashnak', 'dashnakist', 'dashnaks', 'data', 'date', 'daughter', 'dave', 'david', 'day', 'day-to-day', 'dc', 'dd', 'de', 'de-ice', 'dead', 'deal', 'dealer', 'dealler', 'dean', 'death', 'debate', 'debra', 'debunk', 'dec', 'december', 'decendents', 'decent', 'decide', 'decision', 'deck', 'decker', 'declaration', 'declare', 'decompress', 'decut', 'deductible', 'deduction', 'deep', 'default', 'defeat', 'defence', 'defend', 'defense', 'defenseless', 'defensive', 'deficit', 'definately', 'define', 'definite', 'definitely', 'deflection', 'degradation', 'degree', 'delaunay', 'delaware', 'delay', 'delete', 'deletion', 'deliberately', 'deliver', 'delta', 'democracy', 'demographic', 'demonstrate', 'demonstration', 'demonstrator', 'dempster', 'deny', 'department', 'depend', 'depends', 'depletion', 'deploy', 'deport', 'depress', 'der', 'derivative', 'derive', 'derogatory', 'descend', 'describe', 'description', 'desert', 'deserving', 'design', 'designer', 'desirable', 'desk', 'destination', 'destroy', 'destruction', 'detail', 'detailed', 'deter', 'determine', 'deutsch-armenischen', 'deuxieme', 'devastation', 'develop', 'developer', 'development', 'devilish', 'dewey', 'diagnostic', 'dialog', 'dicta-93', 'dicta93', 'dictator', 'dictatorship', 'did1', 'did`nt', 'die', 'diesel', 'diet', 'differ', 'difference', 'different', 'digital', 'dimension', 'dinner', 'dione', 'diplomatic', 'direct', 'direction', 'directive', 'directly', 'director', 'directory', 'dirt', 'dirtbike', 'dirty', 'disable', 'disarm', 'disarmament', 'discipline', 'disclaimer', 'discount', 'discover', 'discussion', 'disease', 'disfiguring', 'disheartened', 'disk', 'diskdoubler', 'disobey', 'display', 'dispute', 'disregardful', 'distance', 'distant', 'distinguish', 'distraction', 'ditto', 'diversity', 'division', 'dock', 'dockmaster', \"doctor's-prescription\", 'document', 'documentary', 'dod', \"dod'ers\", 'dodge', \"doens't\", 'dog', 'domain', 'domestic', 'dominique', 'donate', 'doom', 'door', 'dopey', 'doran', 'double', 'doubt', 'doug', 'download', 'downright', 'downshift', 'dr.', 'drain', 'dram', 'drastically', 'drawer', 'dream', 'drive', 'driven', 'driver', 'driving', 'dro', 'drop', 'drove', 'drug', 'dry', 'dryer', 'dtk', 'du', 'dual', 'dubing', 'ducati', 'due', 'dumb', 'dump', 'duo', 'duster', 'dutch', 'dutifully', 'duty', 'dwarf', 'dynamic', 'e', 'e-mail', 'e.g.', 'eagle', 'earch', 'earlier', 'early', 'earth', 'ease', 'easily', 'east', 'eastern', 'easy', 'eat', 'eclipse', 'ecliptic', 'ecn.purdue.edu', 'econoboxes', 'economic', 'economical', 'ed', 'edge', 'edit', 'edition', 'ee.uts.edu.au', 'effect', 'effective', 'effectively', 'efficiently', 'effort', 'einstein=======', 'either', 'el', 'elderly', 'electrical', 'electromagnetic', 'electron', 'electronics', 'element', 'else', 'elucidate', 'elv', 'email', 'emission', 'emm386', 'emphasis', 'empire', 'empty', 'emulator', 'enable', 'enceladus', 'enclose', 'encompass', 'encore', 'encounter', 'encourage', 'encryption', 'end', 'endorse', 'enemy', 'energy', 'enforcement', 'engine', 'engineer', 'engineering', 'enhancement', 'enjoy', 'enlighten', 'enough', 'ensue', 'ensure', 'entail', 'enter', 'enters', 'entire', 'entirely', 'entitle', 'entity', 'entry', 'enum', 'environment', 'environmentalism', 'environmentalist', 'eos', 'equal', 'equal..', 'equalizer', 'equip', 'era', 'erim.org', 'erivan', 'err', 'error', 'erzincan', 'erzurum', 'esa', 'escalate', 'escape', 'escort', 'esdi', 'especially', 'espouse', 'essence', 'essentially', 'establish', 'esther', 'etc', 'etchmiadzin', 'etzion', 'europa', 'europe', 'european', 'eva', 'evacuate', 'evaluation', 'evasion', 'eve', 'even', 'event', 'events/output', 'eventually', 'ever', 'ever-increasing', 'everybody', 'everyone', 'everything', 'everytime', 'everywhere', 'evidence', 'evidently', 'evolution', 'evolve', 'evrak', 'exact', 'exactly', 'example', 'excellent', 'exception', 'exchange', 'exclude', 'exclusion', 'executive', 'exist', 'exotic', 'expand', 'expansion', 'expect', 'expeditously', 'expel', 'expense', 'expensive', 'experience', 'experiment', 'explain', 'explanation', 'explode', 'exploration', 'export', 'export.lcs.mit.edu', 'expose', 'express', 'expressly', 'extended', 'extension', 'extenstion', 'exterminate', 'extermination', 'external', 'extra', 'extrude', 'eyewitness', 'f-150', 'f.i', 'f.o', 'face', 'facet', 'facility', 'fact', 'factor', 'factory', 'fade', 'fail', 'failed', 'failure', 'fair', 'fairly', 'faith', 'fall', 'fame', 'family', 'fan', 'fanatic', 'fanged', 'fangled', 'faq', 'far', 'farm', 'farmer', 'fasad', 'fast', 'faster', 'fatah', 'fate', 'father', 'fatwa', 'fault', 'fax', 'fcntrl.h', 'fear', 'feature', 'february', 'fee', 'feed', 'feel', 'fellow', 'felt', 'fetter', 'few-of-a-kind', 'fiddle', 'fifty', 'fight', 'fighter', 'fighting', 'figment', 'figure', 'file', 'fill', 'final', 'finally', 'find', 'fine', 'finish', 'fire', 'firearm', 'first', 'fish', 'fit', 'fix', 'fixable', 'flag', 'flaky', 'flame', 'flare', 'flashy', 'flexible', 'flight', 'flood', 'floppy', 'flow', 'fly', 'flyby', 'flybys', 'flyer', 'flynn', 'fo', 'focus', 'foligno', 'folk', 'follow', 'follower', 'following', 'font', 'foolish', 'foot', 'fop', 'force', 'forcibly', 'ford', 'forecast', 'foreclose', 'foreign', 'foreign-missionary', 'forget', 'form', 'format', 'formation', 'former', 'forsale', 'fort', 'fortunate', 'forum', 'fossil', 'found', 'foundation', 'fox', 'frame', 'francisco', 'free', 'free-flying', 'freedom', 'freely', 'freeware', 'french', 'friend', 'front', 'ftp', 'fuel', 'fulfil', 'fulfill', 'fulfillment', 'full', 'full-cover', 'fully', 'function', 'functionality', 'funky', 'funny', 'furthermore', 'future', 'fuzzy', 'g', 'g-1', 'ga.', 'gabor', 'gain', 'galaxy', 'galilee', 'galileo', 'game', 'gamecard', 'gamma-ray', 'gang', 'ganymede', 'garage', 'garrison', 'gas', 'gaspra', 'gather', 'gdi.exe', 'gear', 'general', 'generally', 'generation', 'generic', 'genesis', 'genocide', 'gentile', 'georgia', 'germany', 'gesselschaft', 'get', 'ghost', 'giant', 'gif', 'gift', 'ginigie', 'girl', 'gist', 'give', 'givinh', 'glad', 'gladstonian', 'glass', 'glenwood', 'global', 'glorious', 'glory', 'gn', 'go', 'goal', 'gobbledly-gook', 'god', 'goering', 'goggles', 'goldberg', 'golden', 'gon', 'good', 'gory', 'gotchas', 'government', 'gpf', 'graft', 'grant', 'graphic', 'gravity', 'gravity-assist', 'greasy', 'great', 'greatly', 'greek', 'green', 'gretzky', 'grief', 'griffin', 'grip', 'gripe', 'grossly', 'ground', 'group', 'grow', 'grows', 'gruffness', 'gt', 'guage', 'guard', 'guerilla', 'guerrilla', 'guess', 'guilty', 'gun', 'guy', 'h', 'habitability', 'habitation', 'hadith', 'hagoromo', 'hahralaram', 'hair', 'hairline', 'hakki', 'hal9k.ann-arbor.mi.us', 'half', 'halfway', 'hall', 'hamazasp', 'hamilton', 'hammer', 'hand', 'handed', 'handiwork', 'handle', 'handling', 'handy', 'hang', 'happen', 'happening', 'happily', 'happy', 'harb', 'harbour', 'hard', 'hard-coded', 'hardinge', 'hardware', 'harleys', 'harmless', 'hart', 'hassle', 'hate', 'hatred', 'head', 'headquarters', 'health', 'heap', 'hear', 'heard', 'heart', 'heat', 'heaven', 'heavy', 'hebron', 'hefty', 'height_field', 'heightfield', 'heightfields', 'hell', 'hellcat', 'hello', 'helmet', 'help', 'helpful', 'hence', 'herbert', 'herman', 'hey', 'hga', 'hi', 'hide', 'high', 'high-gain', 'high-pressure', 'highway', 'hijaak', 'hill', 'hinchakist', 'hinckley', 'hire', 'hiring', 'historian', 'historical', 'historically', 'history', 'hit', 'hitch', 'hitler', 'hitter', 'hitting', 'hm', 'hmmm', 'hnic', 'hodgson', 'hog', 'hold', 'hole', 'holocaust', 'home', 'homeland', 'homosexual', 'honda', 'honestly', 'honesty', 'honk', 'honor', 'hook', 'hoover', 'hop', 'hope', 'hopefully', 'horizon', 'horrify', 'horse', 'host', 'hostility', 'hot', 'hotel', 'hour', 'house', 'hovannisian', 'however', 'howie', 'hp', 'hp730', 'hq', 'hr', 'huge', 'hull', 'hultman', 'human', 'human-built', 'humanity', 'hundred', 'hungry', 'hurry', 'hurt', 'huygens', 'hydrocarbon', 'hype', \"i'am\", 'i.e', 'i`m', 'iapetus', 'ibm', 'ibm.cl.msu.edu', 'ice', 'icon', 'id', 'ida', 'idaho', 'ide', 'idea', 'ideological', 'ideology', 'ie', 'iftccu', 'ignore', 'ihsan', 'ihtilali', 'ii', 'iii/1', 'iii/tos', 'illinois', 'illustration', 'image', 'image-generating', 'imagination', 'imagine', 'imaging', 'iml-02', 'iml-2', 'immediately', 'immense', 'imo', 'impact', 'impedance', 'implementation', 'implementor', 'imply', 'impor', 'import', 'important', 'important..', 'impression', 'impressive', 'imprison', 'impulse', 'in-line', 'in-space', 'inability', 'inadequate', 'inappropriate', 'inattentive', 'inc.', 'incidentally', 'inclination', 'inclined', 'include', 'inconsiant', 'incontrovertibly', 'increase', 'incur', 'ind.', 'indeed', 'independant', 'independence', 'independent', 'indicate', 'indifferent', 'indiscriminantly', 'individual', 'industrial', 'industry', 'infamous', 'inferior', 'infinite', 'infinity', 'inflict', 'influence', 'info', 'info-mac/report', 'inform', 'information', 'informed', 'informix.com', 'infrared', 'infrared-emitting', 'inhabitant', 'inherent', 'inhuman', 'initial', 'initialize', 'initially', 'inline', 'inning', 'innocent', 'input', 'inquiry', 'inquisition', 'insane', 'insert', 'insist', 'inspectorate', 'inspire', 'instal', 'installation', 'instance', 'instantaneous', 'instead', 'institute', 'instrument', 'insurance', 'insure', 'integra', 'intel', 'intelligence', 'intend', 'intense', 'intentionally', 'interactive', 'interchange', 'interest', 'interested', 'interesting', 'interface', 'interior', 'internal', 'international', 'interpret', 'interpretation', 'intersection', 'intervene', 'intolerable', 'intricate', 'intriguing', 'introduce', 'introduction', 'invade', 'invader', 'invalid', 'invasion', 'investigate', 'investigator', 'invited', 'invoke', 'involded', 'involve', 'ion', 'iran', 'iron', 'irwin', 'isas', 'isas/nasda', 'islam', 'islamic', 'ismail', 'isolated', 'israel', 'issuance', 'issue', 'istanbul', 'iv/centaur', 'j', 'j.', 'jack', 'jaffari', 'jaha', 'james', 'jamie', 'january', 'jap', 'japan', 'japanese', 'jasmine', 'jawbone', 'jdc.gss.mot.com', 'jean', 'jeffrey', 'jersey', 'jerusalem', 'jesus', 'jew', 'jewish', 'jjb', 'job', 'joe', 'john', 'joint', 'joke', 'jose', 'joshua', 'journal', 'journey', 'jovian', 'joy', 'jpeg-like', 'jpl', 'jsc', 'judaism', 'juelin', 'juggle', 'jul', 'june', 'jupiter', 'jupiter/io', 'justify', 'justly', 'k-bike', 'k.', 'kars', 'katl-i', 'katrina', 'katyusha', 'keep', 'ken', 'kevin', 'key', 'kfar', 'khomeini', 'kid', 'kill', 'kind', 'kinda', 'kinds', 'kit', 'kmail', 'knight', 'knock', 'know', 'knowledge', 'koresh', 'kph2q', 'kulkhandanian', 'kurd', 'kurdish', 'kw', 'la', 'la.tis.com', 'lab', 'label', 'laboratory', 'lack', 'lackey', 'lake', 'lance', 'land', 'landmark', 'language', 'larc', 'large', 'large-', 'large-area', 'last', 'last-modified', 'lastly', 'late', 'later', 'latter', 'latvia', 'launch', 'law', 'law-abiding', 'lawyer', 'layer', 'le', 'lead', 'leader', 'leaf', 'leak', 'learn', 'least', 'leather', 'leave', 'lefthanded', 'lefty', 'legacy', 'legal', 'legion', 'legislate', 'legitimization', 'length', 'lerc', 'less', 'let', 'letter', 'level', 'levy', 'lhp', 'liability', 'liberation', 'liberty', 'library', 'license', 'licensing', 'lie', 'life', 'lifetime', 'lift', 'liftoff', 'light', 'lightweight', 'like', 'likely', 'limit', 'limited', 'limiter', 'line', 'link', 'liquid', 'list', 'listed', 'listen', 'liter', 'little', 'live', 'liver', 'lloyd', 'load', 'loader', 'local', 'locate', 'location', 'lock', 'lockheed', 'logic', 'login', 'logistics', 'london', 'lone', 'long', 'long-term', 'longer', 'look', 'loop', 'loosen', 'lord', 'los', 'lose', 'lossless', 'lot', 'louis', 'love', 'low', 'low-end', 'low-energy', 'low-speed', 'lower-risk', 'lowest', 'loyal', 'luck', 'lucky', 'ludicrous', 'lunar', 'lunar-a', 'lung', 'lustig', 'luxury', 'lx', 'm-16', 'm.', 'm/pixel', 'mac', 'mac-ibm-compare', 'machine', 'macintosh', 'macleak', 'macon', 'macquarie', 'mad', 'magazine', 'magellan', 'magnetic', 'magnetometer', 'magnetosphere', 'magnetotail', 'magnification', 'magnifing', 'mail', 'mail-bouncing', 'mailing', 'main', 'maintain', 'maintenance', 'majesty', 'major', 'majority', 'make', 'malady', 'maldanado', 'male', 'malfunction', 'malnutrition', 'man', 'man-made', 'man-tended', 'manage', 'management', 'manager', 'maneuver', 'manifest', 'mankind', 'manner', 'manner..', 'manual', 'manually', 'manuver', 'many', 'manzanillo', 'map', 'mapping', 'mar', 'marine', 'mark', 'market', 'martian', 'mask', 'masquerade', 'mass', 'mass.', 'massachusetts', 'massacre', 'master', 'mate', 'mathematical', 'mathematique', 'matic', 'matter', 'mattress', 'max', 'maximum', 'maybe', 'mazbatalari', 'mazda', 'mazelyah', 'mccarthy', 'mcimail.com', 'mcintosh', 'mcqueen', 'mcwilliams', 'mean', 'meaning', 'meanwhile', 'measure', 'measurement', 'mechanism', 'meclis-i', 'medical', 'medicine', 'medico-pedic', 'medium', 'meet', 'meeting', 'meg', 'megadrive', 'melt', 'member', 'memoir', 'memoriam', 'memory', 'men', 'mention', 'menu', 'meny', 'merchant', 'mercury', 'mercy', 'mere', 'merely', 'merge', 'mess', 'message', 'metaphor', 'method', 'mets', 'mexico', 'mfc', 'micmail', 'microcomputer', 'microgravity', 'microscope', 'microsoft', 'mid', 'mid-july', 'mid-march', 'middle', 'mike', 'mile', 'mileage', 'military', 'militia', 'milk', 'mill', 'milwaukee', 'min', 'mind', 'mine', 'minimal', 'minor', 'minority', 'minute', 'mirror', 'misfire', 'miss', 'mission', 'missoula', 'mit', 'mit-shm', 'mitsubishi', 'mitteilungsblatt', 'mix', 'mlb', 'mo', 'moa', 'mock', 'mockery', 'mode', 'model', 'moderator', 'modern', 'modified', 'modify', 'modular', 'module', 'momentarily', 'monday', 'money', 'monolux', 'mont', 'mont.', 'month', 'monthly', 'montreal', 'moon', 'moral', 'morale', 'morality', 'moronian', 'morphology', 'moses', 'moslem', 'moslim', 'mother', 'motherboard', 'motify', 'motion', 'motor', 'motorola', 'motto', 'mould', 'mountain', 'mouse', 'mouth', 'move', 'movie', 'mpg', 'mr2', 'mrsr', \"ms's\", 'ms-windows', 'msc', 'msfc', 'mu', 'much', 'mudros', 'multiple', 'munny', 'muratoff', 'murder', 'muses-b', 'muslim', 'mute', 'mutilate', 'mutlu/argic/cosar', 'mvp', 'mystery', \"n't\", 'name', 'namely', 'narrative', 'narrow', 'nasa', 'nasa/esa', 'nasda', 'nation', 'national', 'native', 'nature', 'naval', 'naval/marine', 'navarro', 'navy', 'navy-marine', 'nazi', 'nazism', 'ncd', 'nearby', 'nearly', 'neatly', 'necessarily', 'necessary', 'need', 'needham', 'negev', 'negligent', 'neigborhood', 'neighbour', 'nesim', 'net', 'net-wide', 'netters', 'network', 'neural', 'neurosurgical', 'neutron', 'never', 'new', 'newer', 'news', 'newsgroup', 'newspaper', 'next', 'nfo', 'nice', 'nicely', 'nicholas', 'night', 'nilsson', 'nl', 'no-encryption', 'nod', 'node', 'noel', 'noise', 'nomination', 'non', 'non-biblical', 'non-existent', 'non-fascist', 'non-humans', 'non-muslim', 'non-muslims', 'non-sexist', 'none', 'nonexistant', 'norman', 'north', 'northern', 'nose', 'note', 'nothing', 'notice', 'notify', 'noting', 'notorious', 'notoriously', 'nov.', 'novel', 'november', 'nsa/nist/mykotronix', 'nsw', 'nuance', 'nuclear', 'number', 'nunn', 'nyt', \"o'connor\", 'oasys.dt.navy.mil', 'object', 'objective', 'obrother', 'observation', 'observatory', 'observe', 'observer', 'obstruct', 'obtain', 'obvious', 'obviously', 'occupation', 'occupy', 'occur', 'occurs', 'ocean', 'oct', 'october', 'odasi', 'odd', 'odishelidje', 'offend', 'offense', 'offer', 'offers/trades', 'office', 'officer', 'official', 'often', 'oil', 'oiler', 'ointment', 'ok', 'ok.', 'okay', 'oklahoma', 'olcyzk', 'old', 'on-board', 'on-orbit', 'on-site', 'on-top', 'onboard', 'one', 'one-', 'one-eyed', 'opcode', 'open', 'opening', 'openly', 'openwindows', 'opera', 'operate', 'operation', 'opinion', 'opportunist', 'opportunity', 'oppose', 'opposite', 'oppressive', 'optimize', 'option', 'orbit', 'orbital', 'orbiter', 'orbiter/spacelab', 'order', 'organisation', 'organization', 'organize', 'origin', 'original', 'originally', 'orleans', 'orosco', 'oscillator', 'osterizer', 'others', 'otherwise', 'otoman', 'ottoman', 'ouch', 'outer', 'output', 'outside', 'overdose', 'overhaul', 'overload', 'overturn', 'overuse', 'owner', 'owner-draw', 'ozone', 'p', 'p.', 'p.s', 'pa.dec.com', 'pace', 'pack', 'package', 'page', 'paint', 'pallone', 'paloalto', 'panache', 'panel', 'papazian', 'paper', 'paragraph', 'parameter', 'pardon', 'parent', 'paris', 'parity', 'park', 'parkersburg', 'part', 'partially', 'participant', 'participation', 'particles-and-fields', 'particularly', 'partion', 'partly', 'partner', 'party', 'pass', 'passage', 'passing', 'passive', 'past', 'pat', 'path', 'patient', 'patriarch', 'patriotism', 'pattern', 'paul', 'pay', 'payable', 'payment', 'pc', 'pc/xt/at/ps/2', 'pc`s', 'peace', 'peaceably', 'peaceful', 'peacefull', 'pedal', 'peer', 'pegasus', 'penalty', 'pennsylvania', 'people', 'percent', 'percentage', 'perform', 'performance', 'performs', 'perhaps', 'perihelion', 'period', 'permanent', 'perpetrate', 'persecution', 'persistent', 'person', 'personal', 'personal+300k', 'personal-computer-based', 'personally', 'personnel', 'pervert', 'petersburg', 'pharisee', 'pharmacist', 'phase', 'philip', 'phillip', 'philly', 'philosophically', 'phoenix', 'phone', 'photochemical', 'physic', 'physical', 'physicist', 'piaget', 'pick', 'pickup', 'picture', 'piece', 'pillage', 'pin-outs', 'pistol', 'piston', 'pitch', 'place', 'placement', 'plain', 'plan', 'plane', 'planet', 'planetary', 'plant', 'plasma', 'platform', 'platoon', 'plausible', 'play', 'playback', 'player', 'playmation', 'please', 'pleeeeeeease', 'plesac', 'plexi-fairings', 'plo', 'plug', 'plumbing', 'pluto', 'po', 'pod', 'point', 'pointer', 'pointers/advice', 'polar', 'pole', 'police', 'policy', 'politburo', 'political', 'poll', 'pollution', 'polygonal', 'poor', 'pop', 'population', 'porsche', 'port', 'portability', 'portable', 'portion', 'position', 'positively', 'possibility', 'possible', 'possibly', 'post', 'postal', 'posting', 'postscript', 'postseason', 'potentially', 'pound', 'pov', 'poverty', 'power', 'powerbook', 'powerful', 'powerfull', 'powerfully', 'pp', 'practice', 'prank', 'pre-war', 'preach', 'precedent', 'precicely', 'precise', 'precisely', 'predecessor', 'predict', 'preen', 'prefer', 'preferably', 'preliminary', 'prelude', 'premeditated', 'premium', 'preparation', 'prepare', 'prepared', 'prescot', 'presence', 'present', 'presentation', 'presently', 'president', 'press', 'pretend', 'pretty', 'prevent', 'prevention', 'previewer', 'previous', 'price', 'primarily', 'primary', 'primer', 'primitive', 'principle', 'printer', 'prior', 'priority', 'privacy', 'private', 'privately-developed', 'probability', 'probably', 'probe', 'problem', 'probs', 'procedure', 'proceeding', 'process', 'processing', 'processing/analysis', 'processor', 'proctor', 'produce', 'product', 'production', 'prof', 'prof.', 'program', 'progress', 'prohibit', 'prohibitory', 'project', 'promotion', 'proof', 'proper', 'property', 'proportional', 'proposal', 'propose', 'propreitary', 'propulsion', 'protect', 'protection', 'protective', 'protege', 'protest', 'prove', 'provide', 'province', 'provision', 'provisional', 'pseudo-scholar', 'pub', 'public', 'publication', 'publicly', 'publish', 'publisher', 'puh-leeze', 'pull', 'pullout', 'punish', 'punishment', 'punk', \"pur'im\", 'purchase', 'purchasing', 'purdue', 'pure', 'purify', 'push', 'pusle', 'put', 'q700', 'qool', 'quadra', 'qualify', 'quality', 'question', 'quick', 'quicken', 'quickly', 'quite', 'quote', \"qur'an\", 'r.m', 'r75/6', 'rabid', 'race', 'racer', 'racially', 'radar', 'radiation', 'radiator', 'radio', 'radius', 'raid', 'rain', 'raise', 'ram', 'range', 'rank', 'rapacity', 'rape', 'rarely', 'rat', 'rate', 'rather', 'rathole', 'rational', 'rawlinson', 'rbi', 'rdesonia', 're-boot', 're-claimed', 're-supply', 'reach', 'reactivate', 'reactor', 'read', 'readily', 'reading', 'readout', 'ready', 'real', 'realignment', 'reality', 'realize', 'really', 'reappear', 'rear', 'reason', 'reasonable', 'reasonable.very', 'reasoning-', 'rebel', 'reboot', 'rec.guns', 'recall', 'receive', 'receiver', 'recently', 'recognition', 'recognize', 'recommend', 'recommendation', 'recommended', 'recompress', 'reconsider', 'record', 'recover', 'recycle', 'red', 'redesign', 'redneck', 'reduce', 'redundant', 'refer', 'reference', 'reflection', 'reform', 'refresh', 'refreshing', 'refuse', 'regard', 'regardless', 'region', 'register', 'registration', 'regression', 'regret', 'regular', 'regularly', 'regulation', 'regulator', 'reject', 'relate', 'related', 'relation', 'relationship', 'relatively', 'relay', 'release', 'relevation', 'reliable', 'relief', 'reliever', 'religion', 'religious', 'reluctant', 'rely', 'rem', 'remain', 'remainder', 'remember', 'remind', 'remote', 'removal', 'remove', 'render', 'renewal', 'reparation', 'repeat', 'replace', 'replacement', 'replica', 'reply', 'report', 'reproduce', 'reproducible', 'republic', 'request', 'requested', 'require', 'required', 'requirement', 'resaon', 'research', 'reserve', 'reservist', 'reset', 'residence', 'resist', 'resolution', 'resolve', 'resource', 'respect', 'respective', 'respite', 'responces', 'respond', 'response', 'responsible', 'rest', 'reston', 'restoration', 'restore', 'restraint', 'restrict', 'restriction', 'result', 'resulting', 'resurrection', 'ret', 'retreat', 'retrieve', 'retriever', 'return', 'rev', 'revelation', 'review', 'revolt', 'revolution', 'revolutionary', 'revolver', 'revving', 'reward', 'rhp', 'rich', 'richards', 'rick', 'ride', 'rider', 'ridiculously', 'right', 'righthanded', 'righties', 'rigidly', 'ring', 'ringleader', 'rip', 'rise', 'river', 'rm', 'rn', 'roa', 'road', 'robert', 'roberts', 'robertson', 'robotics', 'rocket', 'rod', 'roger', 'role', 'rom', 'romex', 'ron', 'room', 'rotate', 'roughly', 'round', 'route', 'routine', 'rover', 'row', 'rs.internic.net', 'rsa', 'rt/twin', 'rthe', 'rubbish', 'ruger', 'ruin', 'rule', 'ruler', 'ruling', 'rumor', 'run', 'run/rerun', 'runner', 'running', 'runs/game', 'rushdie', 'russe', 'russia', 'russian', 'ryde', 's+h', 's.', 'sabbath', 'sabis', 'sabotage', 'sabre', 'sacred', 'sad', 'sadducee', 'safe', 'safety', 'saintly', 'salah', 'sale', 'salesman', 'salesperson', 'salon', 'salute', 'sam', 'sample', 'samsung', 'san', 'sarikamis', 'satan', 'satellite', 'satellite-b', 'satisfactory', 'saturn', \"saturn's\", 'saturnian', 'savage', 'savagely', 'save', 'saw', 'say', 'saying', 'sc', 'scale', 'scaliness', 'scalp', 'scan', 'scenario/ratio', 'scene', 'schedule', 'schematic', 'scheme', 'scholar', 'school', 'schott', 'scien-', 'science', 'scientific', 'scintillation', 'scope', 'score', 'scoreless', 'screen', 'screw', 'script', 'scripture', 'scsi', 'scsi-1', 'scsi-2', 'scuffling', 'scum', 'scumbag', 'sea', 'sean', 'search', 'season', 'seatbelt', 'second', 'second-hand', 'secrecy', 'secret', 'section', 'secular', 'secure', 'security', 'see', 'seek', 'seem', 'segment', 'seige', 'seiges', 'seldom', 'self', 'selfmade', 'sell', 'semen', 'semi', 'sen.', 'senate', 'send', 'sense', 'sensing', 'sensor', 'senstitive', 'sep', 'sep.', 'separate', 'separation', 'september', 'serdar', 'serial', 'series', 'serious', 'seriously', 'serve', 'server', 'service', 'session', 'set', 'seth', 'settlement', 'seventh-day', 'several', 'severe', 'sexist', 'sez', 'sf', 'sfu', 'sgi', 'shack', 'shaft', 'shafts..', 'shaky', 'shampoo', 'shape', 'share', 'shared', 'shareware', 'sharon', 'shatter', 'shaw', 'shea', 'sheet', 'shield', 'shmat', 'shmget', 'sho', 'shocking', 'shoot', 'shop', 'shore', 'short', 'short-lived', 'show', 'shuttle', 'shuttle/spacelab', 'si', 'side', 'sidecar', 'sight', 'sighted', 'sign', 'signal', 'significant', 'signing', 'silex', 'silver', 'silverlining', 'similar', 'simms', 'simple', 'simplicity', 'simplistic', 'simply', 'single', 'sink', 'sister', 'sit', 'site', 'sittler', 'situate', 'situation', 'situation..', 'size', 'sky', 'slammin', 'slaughter', 'slaughterhouse', 'sleave', 'slide', 'slight', 'slow', 'small', 'smart', 'smartdrv', 'smith', 'smog', 'snail', 'snob', 'soc.culture.greek', 'soc.religion.christian.bible-study', 'social', 'socialist', 'society', 'soderstrom', 'soft', 'soft-x-ray', 'software', 'solar', 'solar-studies', 'solder', 'soldier', 'solid', 'solution', 'somebody', 'someone', 'something', 'sometimes', 'somewhere', 'son', 'sony', 'sooner', 'sooo', 'sop', 'sorry', 'sort', 'soul', 'sound', 'source', 'south', 'southern', 'soviet', 'space', 'space/new_probes', 'spacecraft', 'spaced', 'spain', 'sparate', 'sparc2', 'speaker', 'speaking', 'spec', 'special', 'specialised', 'specially', 'specific', 'specifically', 'specification', 'spectrometer', 'spectrum', 'speculate', 'speed', 'spell', 'spend', 'spider', 'split', 'spontaneously', 'sport', 'spot', 'spotty', 'sppace', 'spray', 'spread', 'spring', 'spurious', 'squad', 'square', 'squid', 'sr-1000', 'srl-01', 'srt', 'ss10', 'ssf', 'sssssoooooooooooo', 'st', 'st.', 'stable', 'stac', 'stack', 'stadium', 'staff', 'stag', 'stalinism', 'stamp', 'stand', 'standard', 'standardize', 'stanford', 'star', 'start', 'starter', 'state', 'stated', 'statement', 'static', 'static/global', 'station', 'stats', 'status', 'statute', 'stay', 'stealth', 'steam', 'step', 'stephen', 'stereo', 'steve', 'stick', 'still', 'stinky', 'stole', 'stomache-contentsthan', 'stone', 'stop', 'store', 'story', 'straight', 'strange', 'stratospheric', 'stream', 'street', 'stress', 'strictly', 'strike', 'strip', 'strong', 'structure', 'strut', 'sts', 'sts-60', 'sts-68', 'stuck', 'student', 'study', 'stuff', 'stw3', 'style', 'styling', 'styrofoam', 'subaru', 'subcompact', 'subject', 'subjective', 'subjectiveness', 'submission', 'submit', 'subrogation', 'subscriber', 'subscription', 'subsequent', 'substance', 'substantial', 'substantially', 'subtly', 'succeed', 'success', 'successful', 'suchlike', 'suck', 'suero', 'suffer', 'sufficient', 'sufficiently', 'suggest', 'sultan', 'sumex-aim.stanford.edu', 'summarily', 'summarize', 'summary', 'summer', 'sun', 'sunbeam', 'sunday', 'sunni', 'super', 'superior', 'supervise', 'supply', 'support', 'suppose', 'suppression', 'supra', 'supras', 'supreme', 'suprised', 'sure', 'suresh', 'surface', 'surmali', 'surprisingly', 'surround', 'survey', 'survive', 'survivor', 'suspect', 'suspend', 'suspension', 'swap', 'swear', 'swing', 'switch', 'switch..', 'sydney', 'sympathy', 'synchronous', 'syntax', 'system', 'systematic', 'systematically', 'szold', 't-bird', 't.', 'table', 'tail', 'take', 'talk', 'talk.politics.guns', 'talk.religion', 'talmud', 'talon', 'tank', 'tant', 'tap', 'tape.tape', 'tapestry', 'target', 'tartar', 'taskilise', 'taunt', 'tax', 'tc', 'tcp/ip', 'teaching', 'team', 'tear', 'tech', 'technical', 'technician', 'technique', 'technology', 'ted', 'teenage', 'teenager', 'tel', 'telescope', 'television', 'tell', 'tellme', 'telnet', 'ten', 'tend', 'term', 'terminal', 'terminate', 'territorial', 'territory', 'terror', 'terrorism', 'terrorist', 'test', 'testing', 'texas', 'text', 'textual', 'texture', 'tga2pov', 'th', 'thank', 'thanks', 'thanx', \"that's\", 'thatnks', 'thats', 'theatre', 'theft', 'theives', \"there's\", 'therefore', 'theres', 'thermal', 'thermocouple', 'thesis', 'thicker', 'thing', 'think', 'thinking', 'third', 'thirteen', 'thomas', 'thon', 'though', 'thought', 'thousand', 'thread', 'threat', 'three-on-three', 'three-point', 'threefold', 'throttle', 'throw', 'thru', 'thrust', 'thumb', 'thumper', 'thunder', 'thunderbird', 'thursday', 'thus', 'thwaites', 'ticket', 'tie', 'tiff', 'tific', 'tiflis', 'till', 'tilt', 'tim', 'time', 'times-roman', 'timing', 'tiny', 'tirat', 'tire', 'tis-dom', 'tis.com', 'tists', 'titan', 'tobacco', 'today', 'tolerance', 'toll', 'tom', 'tombaker', 'ton', 'tony', 'tool', 'toolbox', 'top', 'topex/poseidon', 'topic', 'torah', 'toro', 'toronto', 'toshiba', 'total', 'total+100k', 'touch', 'tough', 'tour', 'towards', 'tower', 'towing', 'town', 'toyota', 'trace', 'track', 'trade', 'tradeoff', 'tradition', 'traditional', 'tragedy', 'train', 'training', 'traitorously', 'trajectory', 'tranquility', 'trans', 'transfer', 'transit', 'translab.its.uci.edu', 'translate', 'transport', 'transportation', 'trap', 'travel', 'traverse', 'treachery', 'treasonable', 'treat', 'treatment', 'treble', 'tree', 'trial', 'triangle', 'triangulate', 'tricky', 'trip', 'troop', 'trooper', 'trouble', 'troubled', 'troublemaker', 'truck', 'true', 'truly', 'trusted', 'truth', 'try', 'tsi', 'tsr', 'tuba', 'turbo', 'turk', 'turkey', 'turkish', 'turkiye', 'turn', 'twelve', 'twice', 'twillis', 'twin', 'two-year', 'tx', 'type', 'typically', 'tzvi', 'u', 'u.', 'u.s.', 'ugly', 'ultimate', 'ultra', 'ulysses', 'ulysses-', 'umbrella', 'umpire', 'unable', 'unashamedly', 'unconstitutional', 'uncultivated', 'under-secretary', 'under/into', 'underrated', 'understand', 'understanding', 'understood', 'underwriter', 'undoubtably', 'undoubtedly', 'unforgiven', 'unfortunately', 'unfurl', 'unh', 'union', 'unique', 'unit', 'united', 'univ', 'universe', 'university', 'unix', 'unknown', 'unlikely', 'unnecessarily', 'unnecessary', 'unpleasant', 'unregistered', 'unsafe', 'unscrupulous', 'unsynchronized', 'uokmax.ecn.uoknor.edu', 'upcoming', 'update', 'updated', 'updating', 'upgrade', 'upper', 'uprising', 'ups', 'upset', 'upshifts', 'upwards', 'urge', 'urgently', 'us', 'us/french', 'usa', 'usage', 'use', 'used', 'useless', 'user', 'user.exe', 'usual', 'usually', 'utility', 'utilize', 'utterance', 'v.', 'v6', 'vaccum', 'vaive', 'value', 'valve', 'van', 'vanbiesbrouck', 'vaporize', 'variable', 'variation', 'varied', 'variety', 'various', 'vast', 'vaughn', 'vega', 'vehicle', 'vehilce', 'vendor', 'venerable', 'venus', 'ver', 'verification', 'verified', 'version', 'versus', 'victory', 'video', 'view', 'vijay', 'vilayet', 'village', 'villiage', 'villiages', 'vincent', 'vincint', 'vintage', 'viola', 'violate', 'violation', 'violence', 'vip', 'virginia', 'virginia.edu', 'vision', 'visit', 'visualisation', 'visualization', 'vital', 'vitamin', 'voi-la', 'voic', 'voice', 'vol', 'vols.', 'voltage', 'volume', 'volunteer', 'volvos', 'vr6', 'vs', 'vukela', 'vulnerable', 'vvejga', 'vw', 'w', 'w-net', 'w.', 'w.e.d', 'w.va.', 'w/', 'w/2meg', 'wacko', 'wait', 'wake', 'walk', 'walker', 'wall', 'wallpaper', 'wanna-be', 'want', 'war', 'warning', 'warrant', 'warranty', 'wary', 'wash', 'washington', 'waste', 'watch', 'water', 'wave', 'way', 'wayne', 'weak', 'weak-encryption', 'weapon', 'wear', 'weave', 'week', 'weekend', 'wegman', 'weight', 'weitek', 'welcome', 'well', 'wes', 'west', 'western', 'wetware', 'weymouth', 'wfan', \"what's\", 'whatever', 'white', 'whois', 'whole', 'whooa', 'wide', 'wide-field', 'wide-wavelength', 'wierd', 'wife', 'william', 'willing', 'willis', 'willy', 'win', 'win.ini', 'wind', 'window', 'windows', 'windscreen', 'windshield', 'wing', 'wingless', 'winqwk', 'wipe', 'wiper', 'wire', 'wiretap', 'wiretapping', 'wish', 'withdraw', 'withdrawal', 'witnessed', 'wk', 'woman', \"won't-\", 'wonder', 'wonderful', 'wood', 'wool', 'word', 'work', 'works/has', 'workshop', 'workstation', 'world', 'world.std.com', 'worried', 'worry', 'worse', 'worth', 'worthless', 'worthwhile', 'would/could', 'wound', 'wow', 'wp', 'write', 'writer', 'writes', 'writing', 'wrong', 'wrongness', 'wwi', 'wwii', 'wyse', 'x', 'x-ray', 'x-soviet', 'x-terminal', 'x.', 'x/motif', 'x11r3', 'x11r4', 'x_shmputimage', 'xshmattach', 'xshmputimage', 'xtrap', 'xview', 'yamada', 'yankee', 'year', 'yearly', 'yehiam', 'yellow', 'yep', 'yerevan', 'yes', 'yesterday', 'yet', 'yhwh', 'yo', 'yoke', 'york', 'yoshiro', 'young', 'yr', 'yscvax.ysc.go.jp', 'zangezour', 'zangibasar', 'zealand', 'zeik-heil', 'zilkade', 'zone', 'zoologist', 'zoom', '|/', '|\\\\|', '||\\\\|\\\\', '~1500', '~24', '~|']\n"
     ]
    }
   ],
   "source": [
    "from sklearn.feature_extraction.text import CountVectorizer\n",
    "vect = CountVectorizer(max_features=10000, max_df=.70,\n",
    "                       tokenizer=myTokenizer, stop_words=stopWords)\n",
    "X = vect.fit_transform(articles)\n",
    "print (X.shape)\n",
    "print(vect.get_feature_names())"
   ]
  },
  {
   "cell_type": "markdown",
   "metadata": {},
   "source": [
    "Now, we shall train LDA topic modeling algorithm on our data. In the code below, LDA have been asked to create only 5 topics (n_components) and told to iterate using EM algorithm up till 25 iterations. More details can be found by using help(LatentDirichletAllocation)."
   ]
  },
  {
   "cell_type": "code",
   "execution_count": 90,
   "metadata": {},
   "outputs": [
    {
     "name": "stdout",
     "output_type": "stream",
     "text": [
      "Documents and topics shape:  (100, 5)\n",
      "Topics and words shape: (5, 3905)\n"
     ]
    }
   ],
   "source": [
    "from sklearn.decomposition import LatentDirichletAllocation\n",
    "\n",
    "#Initialize LDA\n",
    "vocabulary=X.shape[1] # total words in the training data\n",
    "topics=5 \n",
    "alpha=(1/topics) #alpha for LDA\n",
    "beta=(1/vocabulary)# beta for LDA\n",
    "\n",
    "#Note alpha and beta in actual LDA algorithm are actually vectors of decimal values and not a single decimal value\n",
    "# LDA implementation in Scikit does not take vectors as iput for alpha and beta. So, we have to assign one value for \n",
    "# them. This means we can't really control the skewness of topics' dsitribution or skeweness of words's distrbution\n",
    "# and we just have to assign equal values to all in Scikit-learn. Another gensim library can help us solve this issue\n",
    "# (see Exercises)\n",
    "\n",
    "lda = LatentDirichletAllocation(n_components=topics, learning_method=\"batch\",\n",
    "max_iter=25, random_state=0, topic_word_prior=beta ,doc_topic_prior=alpha)\n",
    "\n",
    "\n",
    "# Train it.\n",
    "documentTopics = lda.fit_transform(X)\n",
    "\n",
    "print (\"Documents and topics shape: \", documentTopics.shape)\n",
    "print(\"Topics and words shape: {}\".format(lda.components_.shape))\n"
   ]
  },
  {
   "cell_type": "markdown",
   "metadata": {},
   "source": [
    "Let's print five topics and top ten words in each topic. However, the last line of the code (topic.argsort[:-11:-1]) could be difficult to understand. Argsort gives the indexes of the values that sorts the data (words in topic) in ascending order. And the remaining part [-11:-1] sort them in descending order and picks the indexes of top 10 words. To understand this code play with the following commented code."
   ]
  },
  {
   "cell_type": "code",
   "execution_count": 91,
   "metadata": {},
   "outputs": [
    {
     "data": {
      "text/plain": [
       "[14, 13, 12]"
      ]
     },
     "execution_count": 91,
     "metadata": {},
     "output_type": "execute_result"
    }
   ],
   "source": [
    "# Code to understand the following reverse sorting. \n",
    "a=[1,2,3,4,5,6,7,8,9,10,11,12,13,14]\n",
    "# Try putting different negative and positive numbers and see what happens\n",
    "a[:-4:-1]\n"
   ]
  },
  {
   "cell_type": "code",
   "execution_count": 92,
   "metadata": {},
   "outputs": [
    {
     "name": "stdout",
     "output_type": "stream",
     "text": [
      "Topic  0\n",
      "use,n't,anyone,people,know,available,starter,phone,please,system\n",
      "Topic  1\n",
      "n't,revolver,'ve,use,auto,board,semi,say,get,file\n",
      "Topic  2\n",
      "n't,year,get,use,car,go,problem,insurance,reserve,'m\n",
      "Topic  3\n",
      "armenian,-*-,russian,people,army,genocide,ottoman,muslim,use,option\n",
      "Topic  4\n",
      "launch,probe,n't,mission,titan,earth,get,space,use,orbit\n"
     ]
    }
   ],
   "source": [
    "# Get the names of each word\n",
    "feature_names=vect.get_feature_names()\n",
    "topWords=-11 # 10 top words actually 11th is not printed\n",
    "# Go through the topic-word matrix\n",
    "for topicIdx, topic in enumerate(lda.components_):\n",
    "    print (\"Topic \",  topicIdx)\n",
    "    #Get top n words\n",
    "    print (\",\".join([feature_names[i]   for i in topic.argsort()[:topWords:-1]]))\n",
    "    "
   ]
  },
  {
   "cell_type": "markdown",
   "metadata": {},
   "source": [
    "There is some noise in our tokens but other than that, some of the topics are quite distinct and mentioning different things. Let us also see what are the topic distributions of the five topics in first two documents."
   ]
  },
  {
   "cell_type": "code",
   "execution_count": 93,
   "metadata": {},
   "outputs": [
    {
     "name": "stdout",
     "output_type": "stream",
     "text": [
      "Topic 1 \t Topic 2  Topic 3\t Topic 4  Topic 5\n",
      "[0.98066011 0.00480248 0.00490835 0.00479358 0.00483548]\n",
      "\n",
      "[0.9847768  0.00379841 0.0038237  0.00379802 0.00380306]\n"
     ]
    }
   ],
   "source": [
    "print (\"Topic 1 \\t Topic 2  Topic 3\\t Topic 4  Topic 5\")\n",
    "print(documentTopics[0])\n",
    "print()\n",
    "print(documentTopics[1])\n"
   ]
  },
  {
   "cell_type": "markdown",
   "metadata": {},
   "source": [
    "# PLSA \n",
    "\n",
    "PLSA topic modeling in scikit-learn is implemented in the same way as LDA but uses a TruncatedSVD class."
   ]
  },
  {
   "cell_type": "code",
   "execution_count": 94,
   "metadata": {},
   "outputs": [
    {
     "name": "stdout",
     "output_type": "stream",
     "text": [
      "Document topic shape (100, 5)\n",
      "Topics and word shape (5, 3905)\n"
     ]
    }
   ],
   "source": [
    "from sklearn.decomposition import  TruncatedSVD\n",
    "lsa = TruncatedSVD(n_components=5)\n",
    "lsaDocTopic = lsa.fit_transform(X)\n",
    "print(\"Document topic shape\", lsaDocTopic.shape)\n",
    "print (\"Topics and word shape\", lsa.components_.shape)"
   ]
  },
  {
   "cell_type": "code",
   "execution_count": 95,
   "metadata": {},
   "outputs": [
    {
     "name": "stdout",
     "output_type": "stream",
     "text": [
      "Topic 0:\n",
      "armenian,russian,people,army,genocide,ottoman,turkish,turk,muslim,war\n",
      "Topic 1:\n",
      "probe,launch,mission,titan,earth,space,orbiter,year,orbit,atmosphere\n",
      "Topic 2:\n",
      "year,car,insurance,rate,go,'m,high,get,========================================================================,pay\n",
      "Topic 3:\n",
      "-*-,**,mattress,-*,suresh,come,well,contact,pick,box\n",
      "Topic 4:\n",
      "option,power,ssf,use,capability,module,flight,redesign,station,team\n"
     ]
    }
   ],
   "source": [
    "for topic_idx, topic in enumerate(lsa.components_):\n",
    "    print (\"Topic %d:\" % (topic_idx))\n",
    "    print (\",\".join([feature_names[i]   for i in topic.argsort()[:-10-1:-1]]))"
   ]
  },
  {
   "cell_type": "markdown",
   "metadata": {},
   "source": [
    "Topics generated by PLSA are similar but not exactly the same.  Here is a good blog on topic modeling covering different libraries and visualization: https://nlpforhackers.io/topic-modeling/"
   ]
  },
  {
   "cell_type": "markdown",
   "metadata": {},
   "source": [
    "Attempt anyone of the exercises. They may have diffrent difficulty levels.\n",
    "\n",
    "# Exercise 7.1\n",
    "Modify the code to get rid of noise from the tokens. For example, there are lots of characters like *,/,-,=,\\,_. Feel free to remove any other noise that you deem appropriate.\n",
    "\n",
    "\n",
    "\n"
   ]
  },
  {
   "cell_type": "markdown",
   "metadata": {},
   "source": [
    "# Exercise 7.2\n",
    "Download some documents (minimum 10 dcs) from Gutenberg project: https://www.gutenberg.org/. Apply both LDA and LSA on the documents to find out different topics discussed in the documents.\n",
    "\n"
   ]
  },
  {
   "cell_type": "markdown",
   "metadata": {},
   "source": [
    "## First part - Apply LDA"
   ]
  },
  {
   "cell_type": "code",
   "execution_count": 96,
   "metadata": {},
   "outputs": [
    {
     "name": "stdout",
     "output_type": "stream",
     "text": [
      "63 books loaded...\n"
     ]
    }
   ],
   "source": [
    "# We first downloaded project gutenberg dataset locally at Gutenberg/txt/*.txt\n",
    "# Gutenberg dataset obtained as single zip file from \n",
    "# https://drive.google.com/uc?id=0B2Mzhc7popBga2RkcWZNcjlRTGM&export=download\n",
    "\n",
    "# The sample / reduced dataset includes works from 5 authors\n",
    "# (trying to match the 5 topics we will model using LDA)\n",
    "# Abraham Lincoln\n",
    "# Abrose Bierce\n",
    "# Edgar Allan Poe\n",
    "# Lewis Carroll\n",
    "# Walt Whitman\n",
    "from sklearn.datasets import load_files\n",
    "books = load_files(\"./Gutenberg_small\")\n",
    "\n",
    "print(len(books.data),\"books loaded...\")\n",
    "#print(\"Contents of...\",books.filenames[0])\n",
    "#print(books.data[0])\n",
    "\n",
    "gutenberg_books = books.data\n"
   ]
  },
  {
   "cell_type": "code",
   "execution_count": 97,
   "metadata": {},
   "outputs": [
    {
     "name": "stdout",
     "output_type": "stream",
     "text": [
      "(63, 10000)\n",
      "[\"'85\", \"'89\", \"'92\", \"'expected\", \"'fanatic\", \"'fecal\", \"'fragile\", \"'in-line\", \"'intifadah\", \"'m\", \"'new\", \"'news\", \"'noise\", \"'notify\", \"'re\", \"'scsi-1\", \"'spanish\", \"'to\", \"'ve\", '**', '**********************************************************************', '*.ini', '*boys', '*entirely*', '*finaly*', '*lack*', '*not*', '*nothing*', '*position*', '*really*', '*science*', '*specifically*', '*speed*', '+1', '+12', '-*', '-*-', '-0.5', '-1', '-12v', '-30-', '-324-9553', '-5v', '-617-3522', '-90', '-brando', '-ciao', '-eric', '-h', '-jason', '-rdd', '-sean', '-w', '..', '..deleted', '..robert', '..sam', '.238.', '.267', '.458', '.481', '.50', '.d', '.not', '.so', '.txt', '//', '//center', '/2', '/6', '/\\\\', '/\\\\|', '/contrib/xtrapv33_x11r5.tar.z', '/u.s', '/|/|', '/||', '/~', '0-5mb/s', '02-jul-92', '02194-2722', '1-20', '1-800-832-4778', '12-2', '12-5', '14-y-o', '1487-1489', '15-20mb/s', '16-bit/wide', '1625-1712', '1629-1695', '1808-1975', '1914-1920', '1918-1920', '1960s', '2-5', '2-5.', '2-door', '20,000-strong', '202-479-2258', '20th', '25-30k', '251-277', '268-9', '2nd', '3-1', '3-20', '3-3', '314-317', '315-316', '32-bit/wide', '336-9591', '349-380', '386-20mhz', '4-6mb/s', '41-160', '45-47', '4th', '5-6', '5-volt', '517-355-2178', '6-1', '6-2', '6-6', '6-7', '8-10', '8-12mb/s', '8-bit', '8-bit/scsi-1', '854-6889', ':openflags', '=====', '=======', '========================================================================', '========imagination', '\\\\\\\\', '\\\\_|\\\\/|_|/|', '^^^^^^^^^^^^^^^^^^^^^^', '_are_', '_depends_', '_entire_', '_hated_', '_rv', '_|\\\\\\\\_|', '`assault', 'a000-c800', 'aardvark.ucs.uoknor.edu', 'ab', 'abandon', 'abdomen', 'abilene', 'able', 'abode', 'about-', 'abp', 'abp2.gif', 'abraham', 'absolute', 'abstract', 'abuse', 'academy', 'accel', 'acceleration', 'accept', 'acceptance', 'access', 'accessible', 'accessory', 'accident', 'accidentally', 'accommodation', 'accompany', 'accomplish', 'account', 'accuracy', 'accurate', 'achieve', 'acn', 'acne', 'acquire', 'acquisition', 'acquisition/control', 'acrv', 'act', 'action', 'active', 'activity', 'actually', 'actualy', 'acura', 'adam', 'adamantly', 'adana', 'adapter', 'adc', 'add', 'addition', 'additional', 'address', 'address/phone', 'adeos', 'adequately', 'adjoin', 'adjust', 'administrative', 'admit', 'admitted', 'admonition', 'adobe', 'adopt', 'adresses', 'adriaansen', 'advance', 'advanced', 'advantage', 'advice', 'advisory', 'affair', 'affect', 'affected', 'afford', 'age', 'agency', 'agent', 'ago', 'agree', 'ah', 'ai', 'aim', 'air', 'airbag', 'alameda', 'alamos', 'alarm', 'albert', 'alcohol', 'alert', 'alexis', 'alfa', 'algorithm', 'ali', 'align', 'alike', 'alive', 'allegedly', 'allen', 'allocate', 'allow', 'allstate', 'ally', 'almost', 'alone', 'along', 'alot', 'already', 'alright', 'also', 'alternative', 'always', 'am/fm', 'amaze', 'amazing', 'ambassador', 'ambient', 'ambition', 'american', 'amherst-clown', 'ami', 'ammunition', 'amount', 'amp', 'amplifier', 'amplify', 'analogy', 'analysis', 'analyze', 'anatolia', 'ancestor', 'ancient', 'angel', 'angle', 'angstrom', 'animal', 'anisetti', 'ankara', 'annihilate', 'annihilation', 'annoying', 'annul', 'answer', 'ansynchronous', 'antenna', 'anti', 'anticipation', 'anxiously', 'anybody', 'anymore', 'anyone', 'anything', 'anyway', 'anywhere', 'apart', 'aphelion', 'apocalypse', 'apollo', 'apostasy', 'apostate', 'apostle', 'app', 'appal', 'apparently', 'appeal', 'appear', 'appearance', 'appearence', 'appendix', 'apple', 'applicable', 'application', 'applies', 'apply', 'appoint', 'appreciate', 'appreciated', 'approach', 'appropriate', 'approval', 'approve', 'approximately', 'apr', 'april', 'aprs', 'apt', 'arab', 'arbitrary', 'architect', 'archive', 'archive-name', 'area', 'argic', 'argue', 'argument', 'ariane', 'arm', 'armenia', 'armenian', 'armenian-nazi', 'armistice', 'army', 'around', 'arounde', 'arrange', 'array', 'arrival', 'arrive', 'arrow', 'article', 'aryan', 'as-is', 'ascendent', 'aside', 'ask', 'aspect', 'aspiration', 'assemble', 'assembler', 'assembly', 'assert', 'assessment', 'assign', 'assist', 'association', 'assume', 'assumption', 'assured', 'asteroid', 'astro-d', 'astrocytomas', 'astronomical', 'astronomy', 'astrophysical', 'asuka', 'atari', 'atf', 'atheism', 'atheist', 'athlete', 'athula', 'ati', 'atleast', 'atm', 'atmosphere', 'atmospheric', 'atrocity', 'attach', 'attack', 'attain', 'attempt', 'attention', 'attention-getting', 'attribution', 'au', 'audi', 'aug', 'august', 'auroral', 'aust', 'austin', 'australia', 'australian', 'author', 'authority', 'auto', 'autocad', 'autodoubler', 'autodoubler/diskdoubler', 'autoexec', 'automated', 'automatic', 'automatically', 'automation', 'automobile', 'available', 'avenue', 'average', 'aviv', 'avoid', 'await', 'aware', 'away', 'awd', 'awds', 'axaf', 'axis', 'ayoob', 'b', 'b/w', 'baalke', 'babi-i', 'back', 'back-stabbed', 'background', 'backside', 'backup', 'bad', 'badshmseg', 'bag', 'baikar', 'baker', 'balance', 'ban', 'band', 'bank', 'banner', 'bar', 'barbarous', 'bare', 'bargain', 'barrack', 'bartman', 'base', 'baseball', 'basically', 'basicly', 'basis', 'bat', 'batchfile', 'batf', 'battalion', 'batter', 'battery', 'batteryless', 'battlefield', 'bay', 'bayonet', 'bayur', 'bc', 'bc++', 'beachball', 'bearing', 'beautiful', 'beauty', 'become', 'bed', 'beemer', 'befall', 'beget', 'begin', 'beginning', 'behalf', 'belief', 'believe', 'belt', 'benefit', 'bent', 'berlin', 'best', 'bet', 'beta.lanl.gov', 'bevelizes', 'biased', 'bible', 'biblical', 'biennial', 'big', 'bike', 'bill', 'billing', 'binah.cc.brandeis.edu', 'binoculars', 'binolux', 'bios', 'birth', 'birthday', 'bit', 'bit-banging', 'bitlis', 'bizarre', 'bj-200', 'bk', 'black', 'blender', 'blind', 'blitz', 'bloch', 'block', 'blood', 'bloody', 'blow', 'blue', 'blue*', 'bmp', 'board', 'board-compressed', 'boast', 'bobby', 'body', 'bogus', 'boil', 'boiler', 'boiling-water', 'bolt', 'bomb', 'bonilla', 'book', 'boost', 'booster', 'boot', 'bosporus', 'boston', 'bother', 'bottom', 'boulder', 'boundary', 'box', 'boy', 'brag', 'brand', 'branham', 'branstad', 'brave', 'break', 'breifly', 'brewer', 'brewhas', 'brick', 'bricklin', 'bridge', 'brief', 'briefly', 'brilliant', 'bring', 'bristol', 'britain', 'british', 'bro', 'bronze/brown/orange', 'brother', 'brotherhood', 'brought', 'browser', 'btw-', 'budienny', 'buffer', 'bug', 'build', 'build-up', 'building', 'bullet', 'bullpen', 'bullshit', 'bumper', 'bunch', 'burdensome', 'bureau', 'burn', 'burnt', 'burst', 'burster', 'bury', 'bus', 'bus-1', 'butcher', 'butter-dishes', 'button', 'buttons/widgets', 'buy', 'buyer', 'buying', 'bva', 'c', \"c'mon\", 'c++', 'c/-', 'c5owcb.n3p', 'cabin', 'cable', 'cad.gatech.edu', 'cage', 'cain', 'calamity', 'caliber', 'calif.', 'california', 'california-irvine', 'call', 'callback', 'callison', 'callisto', 'cam', 'cambridge', 'camera', 'camera-ready', 'cameras', 'camp', 'campaign', 'campbell', 'camping', 'camshaft', \"can't\", 'canadian', 'canberra', 'cancel', 'canon', 'canopy', 'cap', 'capability', 'capacity', 'capitalized', 'captain', 'captaincy', 'capture', 'capture/convert', 'car', 'caravan', 'card', 'care', 'careful', 'carry', 'cart', 'cartridge', 'carve', 'case', 'cassette', 'cassini', 'caste', 'cataclysmic', 'catalog', 'catch', 'category', 'caucasian', 'caucasus', 'cause', 'cavalry', 'cc', 'ccd', 'cd', 'celbration', 'celica', 'cellular', 'census', 'center', 'centre', 'centuries-old', 'century', 'ceremonial', 'certain', 'certainly', 'cfile', 'chairman', 'chalk', 'challenge', 'change', 'character', 'characteristic', 'characterize', 'charge', 'charger', 'charles', 'chase', 'check', 'chemical', 'chemist', 'cheque', 'cherry', 'chevrolet', 'chicago', 'chief', 'child', 'chin', 'chip', 'choice', 'christ', 'christiaan', 'christian', 'christianity', 'church', 'cilicia', 'cimcoz', 'circuit', 'circulation', 'circumference', 'citizen', 'city', 'civil', 'civilian', 'civilization', 'claim', 'class', 'classification', 'clause', 'clean', 'clear', 'clearasil', 'clearest', 'clh', 'click', 'climb', 'clipper', 'clock', 'close', 'close-up', 'closed-cycle', 'closest', 'closing', 'closure', 'cloud', 'cloudy', 'clown', 'club', 'clutch', 'cmaeras', 'cmptrc.lonestar.org', 'co', 'co.', 'cock', 'cocker', 'cod', 'code', 'colaboration', 'cold', 'cold-blooded', 'collaboration', 'collect', 'collection', 'collector', 'college', 'collision', 'collude', 'colonel', 'colt', 'combat', 'combination', 'combine', 'combined', 'comdex', 'come', 'comet', 'command', 'commander', 'commandment', 'comment', 'commerce', 'commission', 'commit', 'committee', 'common', 'commonly', 'commonwealth', 'comms', 'communication', 'community', 'company', 'compel', 'competition', 'compiler', 'compiliers', 'complaint', 'complete', 'completely', 'completion', 'complexity', 'component', 'compound', 'comprehensive', 'compression', 'comprise', 'compute', 'computer', 'computing', 'computrac-richardson', 'comtemporary', 'conceal', 'conceivable', 'concentrate', 'concentration', 'concept', 'concern', 'concerted', 'conclude', 'conclusion', 'concur', 'condemnation', 'condense', 'condenser', 'condition', 'conduct', 'conference', 'conferencing', 'confident', 'config.syus', 'configuration', 'confirm', 'confrontation', 'congress', 'conjecture', 'conservative', 'consider', 'consideration', 'consist', 'consistently', 'conspiracy', 'constant', 'constantly', 'constituency', 'constitute', 'constrain', 'construction', 'consult', 'contact', 'contain', 'contaminate', 'contemporary', 'content', 'context', 'continue', 'continued', 'continuous', 'continuum', 'contribute', 'control', 'controler', 'controlled', 'controller', 'controversy', 'convenient', 'converse', 'convert', 'converter', 'convex', 'convincing', 'convoy', 'cookbook', 'cool', 'cooling', 'cooperation', 'coordination', 'coordinator', 'cop', 'copper', 'copy', 'cord', 'corner', 'corp', 'corps', 'corrado', 'correct', 'correction', 'correctly', 'corvette', 'cosmic', 'cost', 'council', 'count', 'counter', 'country', 'couple', 'course', 'court', 'covenant', 'cover', 'coverage', 'cow', 'cpu', 'crack', 'cradle', 'crankshaft', 'crash', 'crazy', 'create', 'creator', 'creature', 'credibility', 'crew', 'crime', 'criminal', 'crisis', 'criticize', 'crook', 'cross', 'crowd', 'crud', 'cruelty', 'cruise', 'crush', 'crust', 'crx', 'crypto', 'cryptography', 'cryptology', 'crystal', 'csiro', 'ctl-alt-del', 'ctrltest', 'culminate', 'cumulative', 'cure', 'current', 'currently', 'curve', 'customer', 'cut', 'cutler', 'cycle', 'cylinder', 'czar', 'czarist', \"d'artillerie\", \"d'erzeroum\", 'd-ga.', 'daily', 'dalacin', 'dalva', 'damage', 'damage/vandalism/theft', 'damn', 'dan', 'dandruff', 'dangerous', 'dans', 'dar-al-islam', 'dardanelles', 'darius', 'dark', 'darryl', 'dashboard', 'dashnags', 'dashnak', 'dashnakist', 'dashnaks', 'data', 'date', 'daughter', 'dave', 'david', 'day', 'day-to-day', 'dc', 'dd', 'de', 'de-ice', 'dead', 'deal', 'dealer', 'dealler', 'dean', 'death', 'debate', 'debra', 'debunk', 'dec', 'december', 'decendents', 'decent', 'decide', 'decision', 'deck', 'decker', 'declaration', 'declare', 'decompress', 'decut', 'deductible', 'deduction', 'deep', 'default', 'defeat', 'defence', 'defend', 'defense', 'defenseless', 'defensive', 'deficit', 'definately', 'define', 'definite', 'definitely', 'deflection', 'degradation', 'degree', 'delaunay', 'delaware', 'delay', 'delete', 'deletion', 'deliberately', 'deliver', 'delta', 'democracy', 'demographic', 'demonstrate', 'demonstration', 'demonstrator', 'dempster', 'deny', 'department', 'depend', 'depends', 'depletion', 'deploy', 'deport', 'depress', 'der', 'derivative', 'derive', 'derogatory', 'descend', 'describe', 'description', 'desert', 'deserving', 'design', 'designer', 'desirable', 'desk', 'destination', 'destroy', 'destruction', 'detail', 'detailed', 'deter', 'determine', 'deutsch-armenischen', 'deuxieme', 'devastation', 'develop', 'developer', 'development', 'devilish', 'dewey', 'diagnostic', 'dialog', 'dicta-93', 'dicta93', 'dictator', 'dictatorship', 'did1', 'did`nt', 'die', 'diesel', 'diet', 'differ', 'difference', 'different', 'digital', 'dimension', 'dinner', 'dione', 'diplomatic', 'direct', 'direction', 'directive', 'directly', 'director', 'directory', 'dirt', 'dirtbike', 'dirty', 'disable', 'disarm', 'disarmament', 'discipline', 'disclaimer', 'discount', 'discover', 'discussion', 'disease', 'disfiguring', 'disheartened', 'disk', 'diskdoubler', 'disobey', 'display', 'dispute', 'disregardful', 'distance', 'distant', 'distinguish', 'distraction', 'ditto', 'diversity', 'division', 'dock', 'dockmaster', \"doctor's-prescription\", 'document', 'documentary', 'dod', \"dod'ers\", 'dodge', \"doens't\", 'dog', 'domain', 'domestic', 'dominique', 'donate', 'doom', 'door', 'dopey', 'doran', 'double', 'doubt', 'doug', 'download', 'downright', 'downshift', 'dr.', 'drain', 'dram', 'drastically', 'drawer', 'dream', 'drive', 'driven', 'driver', 'driving', 'dro', 'drop', 'drove', 'drug', 'dry', 'dryer', 'dtk', 'du', 'dual', 'dubing', 'ducati', 'due', 'dumb', 'dump', 'duo', 'duster', 'dutch', 'dutifully', 'duty', 'dwarf', 'dynamic', 'e', 'e-mail', 'e.g.', 'eagle', 'earch', 'earlier', 'early', 'earth', 'ease', 'easily', 'east', 'eastern', 'easy', 'eat', 'eclipse', 'ecliptic', 'ecn.purdue.edu', 'econoboxes', 'economic', 'economical', 'ed', 'edge', 'edit', 'edition', 'ee.uts.edu.au', 'effect', 'effective', 'effectively', 'efficiently', 'effort', 'einstein=======', 'either', 'el', 'elderly', 'electrical', 'electromagnetic', 'electron', 'electronics', 'element', 'else', 'elucidate', 'elv', 'email', 'emission', 'emm386', 'emphasis', 'empire', 'empty', 'emulator', 'enable', 'enceladus', 'enclose', 'encompass', 'encore', 'encounter', 'encourage', 'encryption', 'end', 'endorse', 'enemy', 'energy', 'enforcement', 'engine', 'engineer', 'engineering', 'enhancement', 'enjoy', 'enlighten', 'enough', 'ensue', 'ensure', 'entail', 'enter', 'enters', 'entire', 'entirely', 'entitle', 'entity', 'entry', 'enum', 'environment', 'environmentalism', 'environmentalist', 'eos', 'equal', 'equal..', 'equalizer', 'equip', 'era', 'erim.org', 'erivan', 'err', 'error', 'erzincan', 'erzurum', 'esa', 'escalate', 'escape', 'escort', 'esdi', 'especially', 'espouse', 'essence', 'essentially', 'establish', 'esther', 'etc', 'etchmiadzin', 'etzion', 'europa', 'europe', 'european', 'eva', 'evacuate', 'evaluation', 'evasion', 'eve', 'even', 'event', 'events/output', 'eventually', 'ever', 'ever-increasing', 'everybody', 'everyone', 'everything', 'everytime', 'everywhere', 'evidence', 'evidently', 'evolution', 'evolve', 'evrak', 'exact', 'exactly', 'example', 'excellent', 'exception', 'exchange', 'exclude', 'exclusion', 'executive', 'exist', 'exotic', 'expand', 'expansion', 'expect', 'expeditously', 'expel', 'expense', 'expensive', 'experience', 'experiment', 'explain', 'explanation', 'explode', 'exploration', 'export', 'export.lcs.mit.edu', 'expose', 'express', 'expressly', 'extended', 'extension', 'extenstion', 'exterminate', 'extermination', 'external', 'extra', 'extrude', 'eyewitness', 'f-150', 'f.i', 'f.o', 'face', 'facet', 'facility', 'fact', 'factor', 'factory', 'fade', 'fail', 'failed', 'failure', 'fair', 'fairly', 'faith', 'fall', 'fame', 'family', 'fan', 'fanatic', 'fanged', 'fangled', 'faq', 'far', 'farm', 'farmer', 'fasad', 'fast', 'faster', 'fatah', 'fate', 'father', 'fatwa', 'fault', 'fax', 'fcntrl.h', 'fear', 'feature', 'february', 'fee', 'feed', 'feel', 'fellow', 'felt', 'fetter', 'few-of-a-kind', 'fiddle', 'fifty', 'fight', 'fighter', 'fighting', 'figment', 'figure', 'file', 'fill', 'final', 'finally', 'find', 'fine', 'finish', 'fire', 'firearm', 'first', 'fish', 'fit', 'fix', 'fixable', 'flag', 'flaky', 'flame', 'flare', 'flashy', 'flexible', 'flight', 'flood', 'floppy', 'flow', 'fly', 'flyby', 'flybys', 'flyer', 'flynn', 'fo', 'focus', 'foligno', 'folk', 'follow', 'follower', 'following', 'font', 'foolish', 'foot', 'fop', 'force', 'forcibly', 'ford', 'forecast', 'foreclose', 'foreign', 'foreign-missionary', 'forget', 'form', 'format', 'formation', 'former', 'forsale', 'fort', 'fortunate', 'forum', 'fossil', 'found', 'foundation', 'fox', 'frame', 'francisco', 'free', 'free-flying', 'freedom', 'freely', 'freeware', 'french', 'friend', 'front', 'ftp', 'fuel', 'fulfil', 'fulfill', 'fulfillment', 'full', 'full-cover', 'fully', 'function', 'functionality', 'funky', 'funny', 'furthermore', 'future', 'fuzzy', 'g', 'g-1', 'ga.', 'gabor', 'gain', 'galaxy', 'galilee', 'galileo', 'game', 'gamecard', 'gamma-ray', 'gang', 'ganymede', 'garage', 'garrison', 'gas', 'gaspra', 'gather', 'gdi.exe', 'gear', 'general', 'generally', 'generation', 'generic', 'genesis', 'genocide', 'gentile', 'georgia', 'germany', 'gesselschaft', 'get', 'ghost', 'giant', 'gif', 'gift', 'ginigie', 'girl', 'gist', 'give', 'givinh', 'glad', 'gladstonian', 'glass', 'glenwood', 'global', 'glorious', 'glory', 'gn', 'go', 'goal', 'gobbledly-gook', 'god', 'goering', 'goggles', 'goldberg', 'golden', 'gon', 'good', 'gory', 'gotchas', 'government', 'gpf', 'graft', 'grant', 'graphic', 'gravity', 'gravity-assist', 'greasy', 'great', 'greatly', 'greek', 'green', 'gretzky', 'grief', 'griffin', 'grip', 'gripe', 'grossly', 'ground', 'group', 'grow', 'grows', 'gruffness', 'gt', 'guage', 'guard', 'guerilla', 'guerrilla', 'guess', 'guilty', 'gun', 'guy', 'h', 'habitability', 'habitation', 'hadith', 'hagoromo', 'hahralaram', 'hair', 'hairline', 'hakki', 'hal9k.ann-arbor.mi.us', 'half', 'halfway', 'hall', 'hamazasp', 'hamilton', 'hammer', 'hand', 'handed', 'handiwork', 'handle', 'handling', 'handy', 'hang', 'happen', 'happening', 'happily', 'happy', 'harb', 'harbour', 'hard', 'hard-coded', 'hardinge', 'hardware', 'harleys', 'harmless', 'hart', 'hassle', 'hate', 'hatred', 'head', 'headquarters', 'health', 'heap', 'hear', 'heard', 'heart', 'heat', 'heaven', 'heavy', 'hebron', 'hefty', 'height_field', 'heightfield', 'heightfields', 'hell', 'hellcat', 'hello', 'helmet', 'help', 'helpful', 'hence', 'herbert', 'herman', 'hey', 'hga', 'hi', 'hide', 'high', 'high-gain', 'high-pressure', 'highway', 'hijaak', 'hill', 'hinchakist', 'hinckley', 'hire', 'hiring', 'historian', 'historical', 'historically', 'history', 'hit', 'hitch', 'hitler', 'hitter', 'hitting', 'hm', 'hmmm', 'hnic', 'hodgson', 'hog', 'hold', 'hole', 'holocaust', 'home', 'homeland', 'homosexual', 'honda', 'honestly', 'honesty', 'honk', 'honor', 'hook', 'hoover', 'hop', 'hope', 'hopefully', 'horizon', 'horrify', 'horse', 'host', 'hostility', 'hot', 'hotel', 'hour', 'house', 'hovannisian', 'however', 'howie', 'hp', 'hp730', 'hq', 'hr', 'huge', 'hull', 'hultman', 'human', 'human-built', 'humanity', 'hundred', 'hungry', 'hurry', 'hurt', 'huygens', 'hydrocarbon', 'hype', \"i'am\", 'i.e', 'i`m', 'iapetus', 'ibm', 'ibm.cl.msu.edu', 'ice', 'icon', 'id', 'ida', 'idaho', 'ide', 'idea', 'ideological', 'ideology', 'ie', 'iftccu', 'ignore', 'ihsan', 'ihtilali', 'ii', 'iii/1', 'iii/tos', 'illinois', 'illustration', 'image', 'image-generating', 'imagination', 'imagine', 'imaging', 'iml-02', 'iml-2', 'immediately', 'immense', 'imo', 'impact', 'impedance', 'implementation', 'implementor', 'imply', 'impor', 'import', 'important', 'important..', 'impression', 'impressive', 'imprison', 'impulse', 'in-line', 'in-space', 'inability', 'inadequate', 'inappropriate', 'inattentive', 'inc.', 'incidentally', 'inclination', 'inclined', 'include', 'inconsiant', 'incontrovertibly', 'increase', 'incur', 'ind.', 'indeed', 'independant', 'independence', 'independent', 'indicate', 'indifferent', 'indiscriminantly', 'individual', 'industrial', 'industry', 'infamous', 'inferior', 'infinite', 'infinity', 'inflict', 'influence', 'info', 'info-mac/report', 'inform', 'information', 'informed', 'informix.com', 'infrared', 'infrared-emitting', 'inhabitant', 'inherent', 'inhuman', 'initial', 'initialize', 'initially', 'inline', 'inning', 'innocent', 'input', 'inquiry', 'inquisition', 'insane', 'insert', 'insist', 'inspectorate', 'inspire', 'instal', 'installation', 'instance', 'instantaneous', 'instead', 'institute', 'instrument', 'insurance', 'insure', 'integra', 'intel', 'intelligence', 'intend', 'intense', 'intentionally', 'interactive', 'interchange', 'interest', 'interested', 'interesting', 'interface', 'interior', 'internal', 'international', 'interpret', 'interpretation', 'intersection', 'intervene', 'intolerable', 'intricate', 'intriguing', 'introduce', 'introduction', 'invade', 'invader', 'invalid', 'invasion', 'investigate', 'investigator', 'invited', 'invoke', 'involded', 'involve', 'ion', 'iran', 'iron', 'irwin', 'isas', 'isas/nasda', 'islam', 'islamic', 'ismail', 'isolated', 'israel', 'issuance', 'issue', 'istanbul', 'iv/centaur', 'j', 'j.', 'jack', 'jaffari', 'jaha', 'james', 'jamie', 'january', 'jap', 'japan', 'japanese', 'jasmine', 'jawbone', 'jdc.gss.mot.com', 'jean', 'jeffrey', 'jersey', 'jerusalem', 'jesus', 'jew', 'jewish', 'jjb', 'job', 'joe', 'john', 'joint', 'joke', 'jose', 'joshua', 'journal', 'journey', 'jovian', 'joy', 'jpeg-like', 'jpl', 'jsc', 'judaism', 'juelin', 'juggle', 'jul', 'june', 'jupiter', 'jupiter/io', 'justify', 'justly', 'k-bike', 'k.', 'kars', 'katl-i', 'katrina', 'katyusha', 'keep', 'ken', 'kevin', 'key', 'kfar', 'khomeini', 'kid', 'kill', 'kind', 'kinda', 'kinds', 'kit', 'kmail', 'knight', 'knock', 'know', 'knowledge', 'koresh', 'kph2q', 'kulkhandanian', 'kurd', 'kurdish', 'kw', 'la', 'la.tis.com', 'lab', 'label', 'laboratory', 'lack', 'lackey', 'lake', 'lance', 'land', 'landmark', 'language', 'larc', 'large', 'large-', 'large-area', 'last', 'last-modified', 'lastly', 'late', 'later', 'latter', 'latvia', 'launch', 'law', 'law-abiding', 'lawyer', 'layer', 'le', 'lead', 'leader', 'leaf', 'leak', 'learn', 'least', 'leather', 'leave', 'lefthanded', 'lefty', 'legacy', 'legal', 'legion', 'legislate', 'legitimization', 'length', 'lerc', 'less', 'let', 'letter', 'level', 'levy', 'lhp', 'liability', 'liberation', 'liberty', 'library', 'license', 'licensing', 'lie', 'life', 'lifetime', 'lift', 'liftoff', 'light', 'lightweight', 'like', 'likely', 'limit', 'limited', 'limiter', 'line', 'link', 'liquid', 'list', 'listed', 'listen', 'liter', 'little', 'live', 'liver', 'lloyd', 'load', 'loader', 'local', 'locate', 'location', 'lock', 'lockheed', 'logic', 'login', 'logistics', 'london', 'lone', 'long', 'long-term', 'longer', 'look', 'loop', 'loosen', 'lord', 'los', 'lose', 'lossless', 'lot', 'louis', 'love', 'low', 'low-end', 'low-energy', 'low-speed', 'lower-risk', 'lowest', 'loyal', 'luck', 'lucky', 'ludicrous', 'lunar', 'lunar-a', 'lung', 'lustig', 'luxury', 'lx', 'm-16', 'm.', 'm/pixel', 'mac', 'mac-ibm-compare', 'machine', 'macintosh', 'macleak', 'macon', 'macquarie', 'mad', 'magazine', 'magellan', 'magnetic', 'magnetometer', 'magnetosphere', 'magnetotail', 'magnification', 'magnifing', 'mail', 'mail-bouncing', 'mailing', 'main', 'maintain', 'maintenance', 'majesty', 'major', 'majority', 'make', 'malady', 'maldanado', 'male', 'malfunction', 'malnutrition', 'man', 'man-made', 'man-tended', 'manage', 'management', 'manager', 'maneuver', 'manifest', 'mankind', 'manner', 'manner..', 'manual', 'manually', 'manuver', 'many', 'manzanillo', 'map', 'mapping', 'mar', 'marine', 'mark', 'market', 'martian', 'mask', 'masquerade', 'mass', 'mass.', 'massachusetts', 'massacre', 'master', 'mate', 'mathematical', 'mathematique', 'matic', 'matter', 'mattress', 'max', 'maximum', 'maybe', 'mazbatalari', 'mazda', 'mazelyah', 'mccarthy', 'mcimail.com', 'mcintosh', 'mcqueen', 'mcwilliams', 'mean', 'meaning', 'meanwhile', 'measure', 'measurement', 'mechanism', 'meclis-i', 'medical', 'medicine', 'medico-pedic', 'medium', 'meet', 'meeting', 'meg', 'megadrive', 'melt', 'member', 'memoir', 'memoriam', 'memory', 'men', 'mention', 'menu', 'meny', 'merchant', 'mercury', 'mercy', 'mere', 'merely', 'merge', 'mess', 'message', 'metaphor', 'method', 'mets', 'mexico', 'mfc', 'micmail', 'microcomputer', 'microgravity', 'microscope', 'microsoft', 'mid', 'mid-july', 'mid-march', 'middle', 'mike', 'mile', 'mileage', 'military', 'militia', 'milk', 'mill', 'milwaukee', 'min', 'mind', 'mine', 'minimal', 'minor', 'minority', 'minute', 'mirror', 'misfire', 'miss', 'mission', 'missoula', 'mit', 'mit-shm', 'mitsubishi', 'mitteilungsblatt', 'mix', 'mlb', 'mo', 'moa', 'mock', 'mockery', 'mode', 'model', 'moderator', 'modern', 'modified', 'modify', 'modular', 'module', 'momentarily', 'monday', 'money', 'monolux', 'mont', 'mont.', 'month', 'monthly', 'montreal', 'moon', 'moral', 'morale', 'morality', 'moronian', 'morphology', 'moses', 'moslem', 'moslim', 'mother', 'motherboard', 'motify', 'motion', 'motor', 'motorola', 'motto', 'mould', 'mountain', 'mouse', 'mouth', 'move', 'movie', 'mpg', 'mr2', 'mrsr', \"ms's\", 'ms-windows', 'msc', 'msfc', 'mu', 'much', 'mudros', 'multiple', 'munny', 'muratoff', 'murder', 'muses-b', 'muslim', 'mute', 'mutilate', 'mutlu/argic/cosar', 'mvp', 'mystery', \"n't\", 'name', 'namely', 'narrative', 'narrow', 'nasa', 'nasa/esa', 'nasda', 'nation', 'national', 'native', 'nature', 'naval', 'naval/marine', 'navarro', 'navy', 'navy-marine', 'nazi', 'nazism', 'ncd', 'nearby', 'nearly', 'neatly', 'necessarily', 'necessary', 'need', 'needham', 'negev', 'negligent', 'neigborhood', 'neighbour', 'nesim', 'net', 'net-wide', 'netters', 'network', 'neural', 'neurosurgical', 'neutron', 'never', 'new', 'newer', 'news', 'newsgroup', 'newspaper', 'next', 'nfo', 'nice', 'nicely', 'nicholas', 'night', 'nilsson', 'nl', 'no-encryption', 'nod', 'node', 'noel', 'noise', 'nomination', 'non', 'non-biblical', 'non-existent', 'non-fascist', 'non-humans', 'non-muslim', 'non-muslims', 'non-sexist', 'none', 'nonexistant', 'norman', 'north', 'northern', 'nose', 'note', 'nothing', 'notice', 'notify', 'noting', 'notorious', 'notoriously', 'nov.', 'novel', 'november', 'nsa/nist/mykotronix', 'nsw', 'nuance', 'nuclear', 'number', 'nunn', 'nyt', \"o'connor\", 'oasys.dt.navy.mil', 'object', 'objective', 'obrother', 'observation', 'observatory', 'observe', 'observer', 'obstruct', 'obtain', 'obvious', 'obviously', 'occupation', 'occupy', 'occur', 'occurs', 'ocean', 'oct', 'october', 'odasi', 'odd', 'odishelidje', 'offend', 'offense', 'offer', 'offers/trades', 'office', 'officer', 'official', 'often', 'oil', 'oiler', 'ointment', 'ok', 'ok.', 'okay', 'oklahoma', 'olcyzk', 'old', 'on-board', 'on-orbit', 'on-site', 'on-top', 'onboard', 'one', 'one-', 'one-eyed', 'opcode', 'open', 'opening', 'openly', 'openwindows', 'opera', 'operate', 'operation', 'opinion', 'opportunist', 'opportunity', 'oppose', 'opposite', 'oppressive', 'optimize', 'option', 'orbit', 'orbital', 'orbiter', 'orbiter/spacelab', 'order', 'organisation', 'organization', 'organize', 'origin', 'original', 'originally', 'orleans', 'orosco', 'oscillator', 'osterizer', 'others', 'otherwise', 'otoman', 'ottoman', 'ouch', 'outer', 'output', 'outside', 'overdose', 'overhaul', 'overload', 'overturn', 'overuse', 'owner', 'owner-draw', 'ozone', 'p', 'p.', 'p.s', 'pa.dec.com', 'pace', 'pack', 'package', 'page', 'paint', 'pallone', 'paloalto', 'panache', 'panel', 'papazian', 'paper', 'paragraph', 'parameter', 'pardon', 'parent', 'paris', 'parity', 'park', 'parkersburg', 'part', 'partially', 'participant', 'participation', 'particles-and-fields', 'particularly', 'partion', 'partly', 'partner', 'party', 'pass', 'passage', 'passing', 'passive', 'past', 'pat', 'path', 'patient', 'patriarch', 'patriotism', 'pattern', 'paul', 'pay', 'payable', 'payment', 'pc', 'pc/xt/at/ps/2', 'pc`s', 'peace', 'peaceably', 'peaceful', 'peacefull', 'pedal', 'peer', 'pegasus', 'penalty', 'pennsylvania', 'people', 'percent', 'percentage', 'perform', 'performance', 'performs', 'perhaps', 'perihelion', 'period', 'permanent', 'perpetrate', 'persecution', 'persistent', 'person', 'personal', 'personal+300k', 'personal-computer-based', 'personally', 'personnel', 'pervert', 'petersburg', 'pharisee', 'pharmacist', 'phase', 'philip', 'phillip', 'philly', 'philosophically', 'phoenix', 'phone', 'photochemical', 'physic', 'physical', 'physicist', 'piaget', 'pick', 'pickup', 'picture', 'piece', 'pillage', 'pin-outs', 'pistol', 'piston', 'pitch', 'place', 'placement', 'plain', 'plan', 'plane', 'planet', 'planetary', 'plant', 'plasma', 'platform', 'platoon', 'plausible', 'play', 'playback', 'player', 'playmation', 'please', 'pleeeeeeease', 'plesac', 'plexi-fairings', 'plo', 'plug', 'plumbing', 'pluto', 'po', 'pod', 'point', 'pointer', 'pointers/advice', 'polar', 'pole', 'police', 'policy', 'politburo', 'political', 'poll', 'pollution', 'polygonal', 'poor', 'pop', 'population', 'porsche', 'port', 'portability', 'portable', 'portion', 'position', 'positively', 'possibility', 'possible', 'possibly', 'post', 'postal', 'posting', 'postscript', 'postseason', 'potentially', 'pound', 'pov', 'poverty', 'power', 'powerbook', 'powerful', 'powerfull', 'powerfully', 'pp', 'practice', 'prank', 'pre-war', 'preach', 'precedent', 'precicely', 'precise', 'precisely', 'predecessor', 'predict', 'preen', 'prefer', 'preferably', 'preliminary', 'prelude', 'premeditated', 'premium', 'preparation', 'prepare', 'prepared', 'prescot', 'presence', 'present', 'presentation', 'presently', 'president', 'press', 'pretend', 'pretty', 'prevent', 'prevention', 'previewer', 'previous', 'price', 'primarily', 'primary', 'primer', 'primitive', 'principle', 'printer', 'prior', 'priority', 'privacy', 'private', 'privately-developed', 'probability', 'probably', 'probe', 'problem', 'probs', 'procedure', 'proceeding', 'process', 'processing', 'processing/analysis', 'processor', 'proctor', 'produce', 'product', 'production', 'prof', 'prof.', 'program', 'progress', 'prohibit', 'prohibitory', 'project', 'promotion', 'proof', 'proper', 'property', 'proportional', 'proposal', 'propose', 'propreitary', 'propulsion', 'protect', 'protection', 'protective', 'protege', 'protest', 'prove', 'provide', 'province', 'provision', 'provisional', 'pseudo-scholar', 'pub', 'public', 'publication', 'publicly', 'publish', 'publisher', 'puh-leeze', 'pull', 'pullout', 'punish', 'punishment', 'punk', \"pur'im\", 'purchase', 'purchasing', 'purdue', 'pure', 'purify', 'push', 'pusle', 'put', 'q700', 'qool', 'quadra', 'qualify', 'quality', 'question', 'quick', 'quicken', 'quickly', 'quite', 'quote', \"qur'an\", 'r.m', 'r75/6', 'rabid', 'race', 'racer', 'racially', 'radar', 'radiation', 'radiator', 'radio', 'radius', 'raid', 'rain', 'raise', 'ram', 'range', 'rank', 'rapacity', 'rape', 'rarely', 'rat', 'rate', 'rather', 'rathole', 'rational', 'rawlinson', 'rbi', 'rdesonia', 're-boot', 're-claimed', 're-supply', 'reach', 'reactivate', 'reactor', 'read', 'readily', 'reading', 'readout', 'ready', 'real', 'realignment', 'reality', 'realize', 'really', 'reappear', 'rear', 'reason', 'reasonable', 'reasonable.very', 'reasoning-', 'rebel', 'reboot', 'rec.guns', 'recall', 'receive', 'receiver', 'recently', 'recognition', 'recognize', 'recommend', 'recommendation', 'recommended', 'recompress', 'reconsider', 'record', 'recover', 'recycle', 'red', 'redesign', 'redneck', 'reduce', 'redundant', 'refer', 'reference', 'reflection', 'reform', 'refresh', 'refreshing', 'refuse', 'regard', 'regardless', 'region', 'register', 'registration', 'regression', 'regret', 'regular', 'regularly', 'regulation', 'regulator', 'reject', 'relate', 'related', 'relation', 'relationship', 'relatively', 'relay', 'release', 'relevation', 'reliable', 'relief', 'reliever', 'religion', 'religious', 'reluctant', 'rely', 'rem', 'remain', 'remainder', 'remember', 'remind', 'remote', 'removal', 'remove', 'render', 'renewal', 'reparation', 'repeat', 'replace', 'replacement', 'replica', 'reply', 'report', 'reproduce', 'reproducible', 'republic', 'request', 'requested', 'require', 'required', 'requirement', 'resaon', 'research', 'reserve', 'reservist', 'reset', 'residence', 'resist', 'resolution', 'resolve', 'resource', 'respect', 'respective', 'respite', 'responces', 'respond', 'response', 'responsible', 'rest', 'reston', 'restoration', 'restore', 'restraint', 'restrict', 'restriction', 'result', 'resulting', 'resurrection', 'ret', 'retreat', 'retrieve', 'retriever', 'return', 'rev', 'revelation', 'review', 'revolt', 'revolution', 'revolutionary', 'revolver', 'revving', 'reward', 'rhp', 'rich', 'richards', 'rick', 'ride', 'rider', 'ridiculously', 'right', 'righthanded', 'righties', 'rigidly', 'ring', 'ringleader', 'rip', 'rise', 'river', 'rm', 'rn', 'roa', 'road', 'robert', 'roberts', 'robertson', 'robotics', 'rocket', 'rod', 'roger', 'role', 'rom', 'romex', 'ron', 'room', 'rotate', 'roughly', 'round', 'route', 'routine', 'rover', 'row', 'rs.internic.net', 'rsa', 'rt/twin', 'rthe', 'rubbish', 'ruger', 'ruin', 'rule', 'ruler', 'ruling', 'rumor', 'run', 'run/rerun', 'runner', 'running', 'runs/game', 'rushdie', 'russe', 'russia', 'russian', 'ryde', 's+h', 's.', 'sabbath', 'sabis', 'sabotage', 'sabre', 'sacred', 'sad', 'sadducee', 'safe', 'safety', 'saintly', 'salah', 'sale', 'salesman', 'salesperson', 'salon', 'salute', 'sam', 'sample', 'samsung', 'san', 'sarikamis', 'satan', 'satellite', 'satellite-b', 'satisfactory', 'saturn', \"saturn's\", 'saturnian', 'savage', 'savagely', 'save', 'saw', 'say', 'saying', 'sc', 'scale', 'scaliness', 'scalp', 'scan', 'scenario/ratio', 'scene', 'schedule', 'schematic', 'scheme', 'scholar', 'school', 'schott', 'scien-', 'science', 'scientific', 'scintillation', 'scope', 'score', 'scoreless', 'screen', 'screw', 'script', 'scripture', 'scsi', 'scsi-1', 'scsi-2', 'scuffling', 'scum', 'scumbag', 'sea', 'sean', 'search', 'season', 'seatbelt', 'second', 'second-hand', 'secrecy', 'secret', 'section', 'secular', 'secure', 'security', 'see', 'seek', 'seem', 'segment', 'seige', 'seiges', 'seldom', 'self', 'selfmade', 'sell', 'semen', 'semi', 'sen.', 'senate', 'send', 'sense', 'sensing', 'sensor', 'senstitive', 'sep', 'sep.', 'separate', 'separation', 'september', 'serdar', 'serial', 'series', 'serious', 'seriously', 'serve', 'server', 'service', 'session', 'set', 'seth', 'settlement', 'seventh-day', 'several', 'severe', 'sexist', 'sez', 'sf', 'sfu', 'sgi', 'shack', 'shaft', 'shafts..', 'shaky', 'shampoo', 'shape', 'share', 'shared', 'shareware', 'sharon', 'shatter', 'shaw', 'shea', 'sheet', 'shield', 'shmat', 'shmget', 'sho', 'shocking', 'shoot', 'shop', 'shore', 'short', 'short-lived', 'show', 'shuttle', 'shuttle/spacelab', 'si', 'side', 'sidecar', 'sight', 'sighted', 'sign', 'signal', 'significant', 'signing', 'silex', 'silver', 'silverlining', 'similar', 'simms', 'simple', 'simplicity', 'simplistic', 'simply', 'single', 'sink', 'sister', 'sit', 'site', 'sittler', 'situate', 'situation', 'situation..', 'size', 'sky', 'slammin', 'slaughter', 'slaughterhouse', 'sleave', 'slide', 'slight', 'slow', 'small', 'smart', 'smartdrv', 'smith', 'smog', 'snail', 'snob', 'soc.culture.greek', 'soc.religion.christian.bible-study', 'social', 'socialist', 'society', 'soderstrom', 'soft', 'soft-x-ray', 'software', 'solar', 'solar-studies', 'solder', 'soldier', 'solid', 'solution', 'somebody', 'someone', 'something', 'sometimes', 'somewhere', 'son', 'sony', 'sooner', 'sooo', 'sop', 'sorry', 'sort', 'soul', 'sound', 'source', 'south', 'southern', 'soviet', 'space', 'space/new_probes', 'spacecraft', 'spaced', 'spain', 'sparate', 'sparc2', 'speaker', 'speaking', 'spec', 'special', 'specialised', 'specially', 'specific', 'specifically', 'specification', 'spectrometer', 'spectrum', 'speculate', 'speed', 'spell', 'spend', 'spider', 'split', 'spontaneously', 'sport', 'spot', 'spotty', 'sppace', 'spray', 'spread', 'spring', 'spurious', 'squad', 'square', 'squid', 'sr-1000', 'srl-01', 'srt', 'ss10', 'ssf', 'sssssoooooooooooo', 'st', 'st.', 'stable', 'stac', 'stack', 'stadium', 'staff', 'stag', 'stalinism', 'stamp', 'stand', 'standard', 'standardize', 'stanford', 'star', 'start', 'starter', 'state', 'stated', 'statement', 'static', 'static/global', 'station', 'stats', 'status', 'statute', 'stay', 'stealth', 'steam', 'step', 'stephen', 'stereo', 'steve', 'stick', 'still', 'stinky', 'stole', 'stomache-contentsthan', 'stone', 'stop', 'store', 'story', 'straight', 'strange', 'stratospheric', 'stream', 'street', 'stress', 'strictly', 'strike', 'strip', 'strong', 'structure', 'strut', 'sts', 'sts-60', 'sts-68', 'stuck', 'student', 'study', 'stuff', 'stw3', 'style', 'styling', 'styrofoam', 'subaru', 'subcompact', 'subject', 'subjective', 'subjectiveness', 'submission', 'submit', 'subrogation', 'subscriber', 'subscription', 'subsequent', 'substance', 'substantial', 'substantially', 'subtly', 'succeed', 'success', 'successful', 'suchlike', 'suck', 'suero', 'suffer', 'sufficient', 'sufficiently', 'suggest', 'sultan', 'sumex-aim.stanford.edu', 'summarily', 'summarize', 'summary', 'summer', 'sun', 'sunbeam', 'sunday', 'sunni', 'super', 'superior', 'supervise', 'supply', 'support', 'suppose', 'suppression', 'supra', 'supras', 'supreme', 'suprised', 'sure', 'suresh', 'surface', 'surmali', 'surprisingly', 'surround', 'survey', 'survive', 'survivor', 'suspect', 'suspend', 'suspension', 'swap', 'swear', 'swing', 'switch', 'switch..', 'sydney', 'sympathy', 'synchronous', 'syntax', 'system', 'systematic', 'systematically', 'szold', 't-bird', 't.', 'table', 'tail', 'take', 'talk', 'talk.politics.guns', 'talk.religion', 'talmud', 'talon', 'tank', 'tant', 'tap', 'tape.tape', 'tapestry', 'target', 'tartar', 'taskilise', 'taunt', 'tax', 'tc', 'tcp/ip', 'teaching', 'team', 'tear', 'tech', 'technical', 'technician', 'technique', 'technology', 'ted', 'teenage', 'teenager', 'tel', 'telescope', 'television', 'tell', 'tellme', 'telnet', 'ten', 'tend', 'term', 'terminal', 'terminate', 'territorial', 'territory', 'terror', 'terrorism', 'terrorist', 'test', 'testing', 'texas', 'text', 'textual', 'texture', 'tga2pov', 'th', 'thank', 'thanks', 'thanx', \"that's\", 'thatnks', 'thats', 'theatre', 'theft', 'theives', \"there's\", 'therefore', 'theres', 'thermal', 'thermocouple', 'thesis', 'thicker', 'thing', 'think', 'thinking', 'third', 'thirteen', 'thomas', 'thon', 'though', 'thought', 'thousand', 'thread', 'threat', 'three-on-three', 'three-point', 'threefold', 'throttle', 'throw', 'thru', 'thrust', 'thumb', 'thumper', 'thunder', 'thunderbird', 'thursday', 'thus', 'thwaites', 'ticket', 'tie', 'tiff', 'tific', 'tiflis', 'till', 'tilt', 'tim', 'time', 'times-roman', 'timing', 'tiny', 'tirat', 'tire', 'tis-dom', 'tis.com', 'tists', 'titan', 'tobacco', 'today', 'tolerance', 'toll', 'tom', 'tombaker', 'ton', 'tony', 'tool', 'toolbox', 'top', 'topex/poseidon', 'topic', 'torah', 'toro', 'toronto', 'toshiba', 'total', 'total+100k', 'touch', 'tough', 'tour', 'towards', 'tower', 'towing', 'town', 'toyota', 'trace', 'track', 'trade', 'tradeoff', 'tradition', 'traditional', 'tragedy', 'train', 'training', 'traitorously', 'trajectory', 'tranquility', 'trans', 'transfer', 'transit', 'translab.its.uci.edu', 'translate', 'transport', 'transportation', 'trap', 'travel', 'traverse', 'treachery', 'treasonable', 'treat', 'treatment', 'treble', 'tree', 'trial', 'triangle', 'triangulate', 'tricky', 'trip', 'troop', 'trooper', 'trouble', 'troubled', 'troublemaker', 'truck', 'true', 'truly', 'trusted', 'truth', 'try', 'tsi', 'tsr', 'tuba', 'turbo', 'turk', 'turkey', 'turkish', 'turkiye', 'turn', 'twelve', 'twice', 'twillis', 'twin', 'two-year', 'tx', 'type', 'typically', 'tzvi', 'u', 'u.', 'u.s.', 'ugly', 'ultimate', 'ultra', 'ulysses', 'ulysses-', 'umbrella', 'umpire', 'unable', 'unashamedly', 'unconstitutional', 'uncultivated', 'under-secretary', 'under/into', 'underrated', 'understand', 'understanding', 'understood', 'underwriter', 'undoubtably', 'undoubtedly', 'unforgiven', 'unfortunately', 'unfurl', 'unh', 'union', 'unique', 'unit', 'united', 'univ', 'universe', 'university', 'unix', 'unknown', 'unlikely', 'unnecessarily', 'unnecessary', 'unpleasant', 'unregistered', 'unsafe', 'unscrupulous', 'unsynchronized', 'uokmax.ecn.uoknor.edu', 'upcoming', 'update', 'updated', 'updating', 'upgrade', 'upper', 'uprising', 'ups', 'upset', 'upshifts', 'upwards', 'urge', 'urgently', 'us', 'us/french', 'usa', 'usage', 'use', 'used', 'useless', 'user', 'user.exe', 'usual', 'usually', 'utility', 'utilize', 'utterance', 'v.', 'v6', 'vaccum', 'vaive', 'value', 'valve', 'van', 'vanbiesbrouck', 'vaporize', 'variable', 'variation', 'varied', 'variety', 'various', 'vast', 'vaughn', 'vega', 'vehicle', 'vehilce', 'vendor', 'venerable', 'venus', 'ver', 'verification', 'verified', 'version', 'versus', 'victory', 'video', 'view', 'vijay', 'vilayet', 'village', 'villiage', 'villiages', 'vincent', 'vincint', 'vintage', 'viola', 'violate', 'violation', 'violence', 'vip', 'virginia', 'virginia.edu', 'vision', 'visit', 'visualisation', 'visualization', 'vital', 'vitamin', 'voi-la', 'voic', 'voice', 'vol', 'vols.', 'voltage', 'volume', 'volunteer', 'volvos', 'vr6', 'vs', 'vukela', 'vulnerable', 'vvejga', 'vw', 'w', 'w-net', 'w.', 'w.e.d', 'w.va.', 'w/', 'w/2meg', 'wacko', 'wait', 'wake', 'walk', 'walker', 'wall', 'wallpaper', 'wanna-be', 'want', 'war', 'warning', 'warrant', 'warranty', 'wary', 'wash', 'washington', 'waste', 'watch', 'water', 'wave', 'way', 'wayne', 'weak', 'weak-encryption', 'weapon', 'wear', 'weave', 'week', 'weekend', 'wegman', 'weight', 'weitek', 'welcome', 'well', 'wes', 'west', 'western', 'wetware', 'weymouth', 'wfan', \"what's\", 'whatever', 'white', 'whois', 'whole', 'whooa', 'wide', 'wide-field', 'wide-wavelength', 'wierd', 'wife', 'william', 'willing', 'willis', 'willy', 'win', 'win.ini', 'wind', 'window', 'windows', 'windscreen', 'windshield', 'wing', 'wingless', 'winqwk', 'wipe', 'wiper', 'wire', 'wiretap', 'wiretapping', 'wish', 'withdraw', 'withdrawal', 'witnessed', 'wk', 'woman', \"won't-\", 'wonder', 'wonderful', 'wood', 'wool', 'word', 'work', 'works/has', 'workshop', 'workstation', 'world', 'world.std.com', 'worried', 'worry', 'worse', 'worth', 'worthless', 'worthwhile', 'would/could', 'wound', 'wow', 'wp', 'write', 'writer', 'writes', 'writing', 'wrong', 'wrongness', 'wwi', 'wwii', 'wyse', 'x', 'x-ray', 'x-soviet', 'x-terminal', 'x.', 'x/motif', 'x11r3', 'x11r4', 'x_shmputimage', 'xshmattach', 'xshmputimage', 'xtrap', 'xview', 'yamada', 'yankee', 'year', 'yearly', 'yehiam', 'yellow', 'yep', 'yerevan', 'yes', 'yesterday', 'yet', 'yhwh', 'yo', 'yoke', 'york', 'yoshiro', 'young', 'yr', 'yscvax.ysc.go.jp', 'zangezour', 'zangibasar', 'zealand', 'zeik-heil', 'zilkade', 'zone', 'zoologist', 'zoom', '|/', '|\\\\|', '||\\\\|\\\\', '~1500', '~24', '~|']\n"
     ]
    }
   ],
   "source": [
    "# First we create the term-document matrix, using the same tokenizer / stemmer as before\n",
    "from sklearn.feature_extraction.text import CountVectorizer\n",
    "\n",
    "gut_vect = CountVectorizer(max_features=10000, max_df=.70,\n",
    "                       tokenizer=myTokenizer, stop_words=stopWords)\n",
    "gut_matrix = gut_vect.fit_transform(gutenberg_books)\n",
    "\n",
    "print (gut_matrix.shape)\n",
    "print(vect.get_feature_names())"
   ]
  },
  {
   "cell_type": "code",
   "execution_count": 98,
   "metadata": {},
   "outputs": [
    {
     "name": "stdout",
     "output_type": "stream",
     "text": [
      "Documents and topics shape:  (63, 5)\n",
      "Topics and words shape: (5, 10000)\n"
     ]
    }
   ],
   "source": [
    "# Now we do LDA\n",
    "\n",
    "from sklearn.decomposition import LatentDirichletAllocation\n",
    "\n",
    "#Initialize LDA\n",
    "vocabulary=gut_matrix.shape[1] # total words in the training data\n",
    "topics=5 \n",
    "alpha=(1/topics) #alpha for LDA\n",
    "beta=(1/vocabulary)# beta for LDA\n",
    "\n",
    "#Note alpha and beta in actual LDA algorithm are actually vectors of decimal values and not a single decimal value\n",
    "# LDA implementation in Scikit does not take vectors as iput for alpha and beta. So, we have to assign one value for \n",
    "# them. This means we can't really control the skewness of topics' dsitribution or skeweness of words's distrbution\n",
    "# and we just have to assign equal values to all in Scikit-learn. Another gensim library can help us solve this issue\n",
    "# (see Exercises)\n",
    "\n",
    "lda = LatentDirichletAllocation(n_components=topics, learning_method=\"batch\",\n",
    "max_iter=25, random_state=0, topic_word_prior=beta ,doc_topic_prior=alpha)\n",
    "\n",
    "\n",
    "# Train it.\n",
    "documentTopics = lda.fit_transform(gut_matrix)\n",
    "\n",
    "print (\"Documents and topics shape: \", documentTopics.shape)\n",
    "print(\"Topics and words shape: {}\".format(lda.components_.shape))"
   ]
  },
  {
   "cell_type": "code",
   "execution_count": 99,
   "metadata": {},
   "outputs": [
    {
     "name": "stdout",
     "output_type": "stream",
     "text": [
      "Topic  0\n",
      "soul,'d,woman,song,poem,thee,poet,sun,thy,america\n",
      "Topic  1\n",
      "lincoln,slavery,a.,united,washington,government,constitution,slave,union,douglas\n",
      "Topic  2\n",
      "woman,mr.,dog,gentleman,n.,political,system,american,officer,principle\n",
      "Topic  3\n",
      "x,·,-|,-·,h,proposition,i.e,exist,¶,class\n",
      "Topic  4\n",
      "alice,thy,'m,thou,'ve,bruno,soul,mr.,queen,tone\n"
     ]
    }
   ],
   "source": [
    "# This is the top words for each topic\n",
    "\n",
    "# Get the names of each word\n",
    "feature_names=gut_vect.get_feature_names()\n",
    "topWords=-11 # 10 top words actually 11th is not printed\n",
    "# Go through the topic-word matrix\n",
    "for topicIdx, topic in enumerate(lda.components_):\n",
    "    print (\"Topic \",  topicIdx)\n",
    "    #Get top n words\n",
    "    print (\",\".join([feature_names[i]   for i in topic.argsort()[:topWords:-1]]))"
   ]
  },
  {
   "cell_type": "markdown",
   "metadata": {},
   "source": [
    "## Second part - Apply PLSA"
   ]
  },
  {
   "cell_type": "code",
   "execution_count": 100,
   "metadata": {},
   "outputs": [
    {
     "name": "stdout",
     "output_type": "stream",
     "text": [
      "Document topic shape (63, 5)\n",
      "Topics and word shape (5, 10000)\n"
     ]
    }
   ],
   "source": [
    "from sklearn.decomposition import  TruncatedSVD\n",
    "lsa = TruncatedSVD(n_components=5)\n",
    "lsaDocTopic = lsa.fit_transform(gut_matrix)\n",
    "print(\"Document topic shape\", lsaDocTopic.shape)\n",
    "print (\"Topics and word shape\", lsa.components_.shape)"
   ]
  },
  {
   "cell_type": "code",
   "execution_count": 101,
   "metadata": {},
   "outputs": [
    {
     "name": "stdout",
     "output_type": "stream",
     "text": [
      "Topic 0:\n",
      "lincoln,a.,washington,united,government,slavery,union,president,mr.,telegram\n",
      "Topic 1:\n",
      "·,-·,x,-|,h,proposition,¶,exist,i.e,univ\n",
      "Topic 2:\n",
      "soul,'d,woman,poem,thy,poet,thee,thou,song,america\n",
      "Topic 3:\n",
      "a.,washington,telegram,lincoln,major-general,mansion,executive,c.,department,army\n",
      "Topic 4:\n",
      "'d,america,c.,literature,hospital,york,to-day,american,future,democracy\n"
     ]
    }
   ],
   "source": [
    "for topic_idx, topic in enumerate(lsa.components_):\n",
    "    print (\"Topic %d:\" % (topic_idx))\n",
    "    print (\",\".join([feature_names[i]   for i in topic.argsort()[:-10-1:-1]]))"
   ]
  },
  {
   "cell_type": "markdown",
   "metadata": {},
   "source": [
    "# Exercise 7.3\n",
    "Use LDA or LSA on movie review database of earlier labs (or any other text database with known classes) to extract 50 to 100 topics. Once the topics are extracted, use them as features for your Naive Bayes classifier. Each document topic vector will be your input to the classifier. Find out the accuracy, precision and recall.\n",
    "\n"
   ]
  },
  {
   "cell_type": "markdown",
   "metadata": {},
   "source": [
    "# Exercise 7.4\n",
    "In Scikit-learn code above, we couldn't pass alpha and beta as vectors with different starting probabilities for each topic or word. This is possible to achieve in gensim library in Python (https://radimrehurek.com/gensim/models/ldamodel.html). Implement LDA in gensim in Python on the text dataset used in this lab (above) with alpha and beta as vectors and not a single value. Also implement Exercise 7.1. Note gensim is easier to use than Scikit-learn."
   ]
  },
  {
   "cell_type": "code",
   "execution_count": null,
   "metadata": {},
   "outputs": [],
   "source": []
  }
 ],
 "metadata": {
  "kernelspec": {
   "display_name": "Python 3",
   "language": "python",
   "name": "python3"
  },
  "language_info": {
   "codemirror_mode": {
    "name": "ipython",
    "version": 3
   },
   "file_extension": ".py",
   "mimetype": "text/x-python",
   "name": "python",
   "nbconvert_exporter": "python",
   "pygments_lexer": "ipython3",
   "version": "3.6.4"
  }
 },
 "nbformat": 4,
 "nbformat_minor": 2
}
