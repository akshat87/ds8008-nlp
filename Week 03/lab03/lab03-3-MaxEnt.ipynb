{
 "cells": [
  {
   "cell_type": "markdown",
   "metadata": {},
   "source": [
    "Now, we are going to check out Maximum Entropy Classifier (MaxEnt) for POS tagging. This is just an example to make you understand MaxEnt classifier. The number of features created for each word below are not sufficient to build a complete model. However, they are sufficient to understand the concept."
   ]
  },
  {
   "cell_type": "code",
   "execution_count": null,
   "metadata": {},
   "outputs": [],
   "source": [
    "import nltk\n",
    "from nltk.classify import maxent\n",
    "from nltk.corpus import treebank\n",
    "\n",
    "tr = treebank.tagged_sents()[:10]\n",
    "\n",
    "# Function to create multiple features out of every word\n",
    "def featureMaker(w):\n",
    "    \n",
    "    features={}\n",
    "    features[\"word\"]=w # word itself\n",
    "    #true or false if first letter is cpaital\n",
    "    features[\"isCapital\"]=w[0].upper()==w[0]\n",
    "    features[\"isNumeric\"]=w.isdigit()\n",
    "    features[\"prefix\"]=w[0]\n",
    "    features[\"suffix\"]=w[-1]\n",
    "    return features\n",
    "\n",
    "     \n",
    "train=[]\n",
    "for sent in tr:\n",
    "    for (w,tag) in sent:\n",
    "        train.append((featureMaker(w),tag))\n",
    "print(\"****Have a look at features***\")\n",
    "print (train[:3])   \n",
    "\n",
    "\n",
    "\n"
   ]
  },
  {
   "cell_type": "markdown",
   "metadata": {},
   "source": [
    "Now, it is the time to tain a basic MaxEnt classifier on the above features of words and corresponding tags."
   ]
  },
  {
   "cell_type": "code",
   "execution_count": null,
   "metadata": {},
   "outputs": [],
   "source": [
    "classifier = maxent.MaxentClassifier.train(train)\n"
   ]
  },
  {
   "cell_type": "markdown",
   "metadata": {},
   "source": [
    "Let's test our toy classifier with the same sentence as we used for HMM."
   ]
  },
  {
   "cell_type": "code",
   "execution_count": null,
   "metadata": {},
   "outputs": [],
   "source": [
    "testSent= \"Cigarette has caused a high percentage of cancer\"\n",
    "testTokens=nltk.word_tokenize(testSent)\n",
    "test=[]\n",
    "for w in testTokens:\n",
    "    test.append(featureMaker(w ))\n",
    "\n",
    "print (testTokens)\n",
    "print(classifier.classify_many(test))\n",
    "\n",
    "print (\"\\nCompare with NLTK tagger \", nltk.pos_tag(nltk.word_tokenize(testSent)))"
   ]
  },
  {
   "cell_type": "markdown",
   "metadata": {},
   "source": [
    "Astonishing! Above results are 100% correct. The results are exactly the same as the NLTK tagger. Note that we train with very few features and with only 10 tagged sentences. \n",
    "\n",
    "Exercise 3.4 What is the reason for such high accuracy of MaxEnt classifier? To find out the answer, try to play with the features, add more features and see the accuracy.\n",
    "\n",
    "For further readign, here is one interesting blog that uses features like we have created but trains a decision tree classifier for POS tagging.\n",
    "http://nlpforhackers.io/training-pos-tagger/\n"
   ]
  }
 ],
 "metadata": {
  "kernelspec": {
   "display_name": "Python 3",
   "language": "python",
   "name": "python3"
  },
  "language_info": {
   "codemirror_mode": {
    "name": "ipython",
    "version": 3
   },
   "file_extension": ".py",
   "mimetype": "text/x-python",
   "name": "python",
   "nbconvert_exporter": "python",
   "pygments_lexer": "ipython3",
   "version": "3.6.3"
  }
 },
 "nbformat": 4,
 "nbformat_minor": 2
}
