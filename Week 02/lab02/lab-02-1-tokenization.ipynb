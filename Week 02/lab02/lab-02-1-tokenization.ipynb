{
 "cells": [
  {
   "cell_type": "markdown",
   "metadata": {},
   "source": [
    "In this lab, we shall see how to perform tokenization using NLTK--a python library (package). First you may have to download following packages to get the remaining code to work on your machines."
   ]
  },
  {
   "cell_type": "code",
   "execution_count": null,
   "metadata": {
    "scrolled": true
   },
   "outputs": [],
   "source": [
    "import nltk\n",
    "nltk.download(\"punkt\") #tokenizer\n",
    "nltk.download(\"stopwords\")# stop words"
   ]
  },
  {
   "cell_type": "markdown",
   "metadata": {},
   "source": [
    "Following are different ways to tokenize text using NLTK"
   ]
  },
  {
   "cell_type": "code",
   "execution_count": null,
   "metadata": {},
   "outputs": [],
   "source": [
    "import nltk\n",
    "from nltk.tokenize import TreebankWordTokenizer\n",
    "from nltk.tokenize import WordPunctTokenizer\n",
    "\n",
    "text=\" Hello everyone. I'm your automated assistant. Hope you'll find natural language processing interesting.\"\n",
    "\n",
    "tokenizer = TreebankWordTokenizer()\n",
    "print(\"\\n::Treebank tokenizer::\",tokenizer.tokenize(text))\n",
    "\n",
    "\n",
    "print(\"\\n::NLTK word tokenizer::\",nltk.word_tokenize(text))\n",
    "\n",
    "\n",
    "tokenizer=WordPunctTokenizer()\n",
    "print(\"\\n::Word Punct Tokenizer::\", tokenizer.tokenize(text))\n"
   ]
  },
  {
   "cell_type": "markdown",
   "metadata": {},
   "source": [
    "In the above tokenizer, you may have to get rid of the punctuation marks if your application does not need them. \n",
    " Nonetheless, you can use regular expressions to get tokens and replace contractions too. Following is the way to replace toenize using regular expressions"
   ]
  },
  {
   "cell_type": "code",
   "execution_count": null,
   "metadata": {},
   "outputs": [],
   "source": [
    "from nltk.tokenize import RegexpTokenizer\n",
    "text=\" Hello everyone. I'm your automated assistant. Hope you'll find natural language processing interesting.\"\n",
    "tokenizer=RegexpTokenizer(\"['\\w]+\")\n",
    "print(\"::Regex tokenizer::\",tokenizer.tokenize(text))\n",
    "\n",
    "#capturing only words with a capital letter in the beginning\n",
    "capt = RegexpTokenizer('[A-Z]\\w+')\n",
    "print(\"\\n::Words with caps::\",capt.tokenize(text))\n"
   ]
  },
  {
   "cell_type": "markdown",
   "metadata": {},
   "source": [
    "Following is an example of sentence tokenization."
   ]
  },
  {
   "cell_type": "code",
   "execution_count": null,
   "metadata": {},
   "outputs": [],
   "source": [
    "from nltk.tokenize import sent_tokenize\n",
    "\n",
    "text=\" Don't hesitate to ask questions Mr. Smith. Drive safe to home. Have a nice day.\"\n",
    "\n",
    "print(\"\\n:: Sentence tokenization::\", sent_tokenize(text))\n",
    "\n"
   ]
  },
  {
   "cell_type": "markdown",
   "metadata": {},
   "source": [
    "Suppose you have multiple text documents, each represented by an element of a list. Following is an exampel of iteration through documents."
   ]
  },
  {
   "cell_type": "code",
   "execution_count": null,
   "metadata": {},
   "outputs": [],
   "source": [
    "from nltk.tokenize import word_tokenize\n",
    "text=[\" It is a pleasant evening.\",\"Guests, who came from US arrived at the venue\",\"Food was tasty.\"]\n",
    "tokenizedDocs=[word_tokenize(doc) for doc in text]\n",
    "\n",
    "for idx,tokens in enumerate(tokenizedDocs):\n",
    "    print(\"Document \", idx, \" \", tokens)"
   ]
  },
  {
   "cell_type": "markdown",
   "metadata": {},
   "source": [
    "Let's take a look at the stop words and its quick application"
   ]
  },
  {
   "cell_type": "code",
   "execution_count": null,
   "metadata": {},
   "outputs": [],
   "source": [
    "from nltk.corpus import stopwords\n",
    "stops=set(stopwords.words('english'))\n",
    "\n",
    "print(\":::Englsh stop words in NLTK:::\")\n",
    "print (stops)\n",
    "\n"
   ]
  },
  {
   "cell_type": "code",
   "execution_count": null,
   "metadata": {
    "scrolled": true
   },
   "outputs": [],
   "source": [
    "from nltk.corpus import stopwords\n",
    "stops=set(stopwords.words('english'))\n",
    "words=[\"Don't\", 'hesitate','to','ask','questions']\n",
    "filteredWords=[word for word in words if word.lower() not in stops]\n",
    "print(filteredWords)\n",
    "\n",
    "print(\"Stop words for different languages in NLTK\")\n",
    "print(stopwords.fileids())"
   ]
  },
  {
   "cell_type": "markdown",
   "metadata": {},
   "source": [
    "#######################################################################################################################\n",
    "\n",
    "Here is an exercise for practice.\n",
    "\n",
    "(2.1) Write a program to convert following text in tokens with different methods discussed above and analyze the outputs. Do it in blank/new notebook. The tokens should not have stop words and punctuation symbols. Feel free to decide about the correct list of stop words; e.g., negative words (don't) could be important for you. The text is shown below.  \n",
    "\n",
    "\"The history of NLP generally started in the 1950s, although work can be found from earlier periods. In 1950, Alan Turing published an article titled \"Computing Machinery and Intelligence\" which proposed what is now called the Turing test as a criterion of intelligence.\n",
    "\n",
    "The Georgetown experiment in 1954 involved fully automatic translation of more than sixty Russian sentences into English. The authors claimed that within three or five years, machine translation would be a solved problem.[2] However, real progress was much slower, and after the ALPAC report in 1966, which found that ten-year-long research had failed to fulfill the expectations, funding for machine translation was dramatically reduced. Little further research in machine translation was conducted until the late 1980s, when the first statistical machine translation systems were developed.\n",
    "\n",
    "Some notably successful NLP systems developed in the 1960s were SHRDLU, a natural-language system working in restricted \"blocks worlds\" with restricted vocabularies, and ELIZA, a simulation of a Rogerian psychotherapist, written by Joseph Weizenbaum between 1964 and 1966. Using almost no information about human thought or emotion, ELIZA sometimes provided a startlingly human-like interaction. When the \"patient\" exceeded the very small knowledge base, ELIZA might provide a generic response, for example, responding to \"My head hurts\" with \"Why do you say your head hurts?\".\n",
    "\n",
    "During the 1970s, many programmers began to write \"conceptual ontologies\", which structured real-world information into computer-understandable data. Examples are MARGIE (Schank, 1975), SAM (Cullingford, 1978), PAM (Wilensky, 1978), TaleSpin (Meehan, 1976), QUALM (Lehnert, 1977), Politics (Carbonell, 1979), and Plot Units (Lehnert 1981). During this time, many chatterbots were written including PARRY, Racter, and Jabberwacky.\""
   ]
  }
 ],
 "metadata": {
  "kernelspec": {
   "display_name": "Python 3",
   "language": "python",
   "name": "python3"
  },
  "language_info": {
   "codemirror_mode": {
    "name": "ipython",
    "version": 3
   },
   "file_extension": ".py",
   "mimetype": "text/x-python",
   "name": "python",
   "nbconvert_exporter": "python",
   "pygments_lexer": "ipython3",
   "version": "3.6.3"
  }
 },
 "nbformat": 4,
 "nbformat_minor": 2
}
